{
 "cells": [
  {
   "cell_type": "code",
   "execution_count": 14,
   "metadata": {},
   "outputs": [],
   "source": [
    "import pandas as pd\n",
    "import tensorflow as tf\n",
    "from tensorflow.keras.models import Sequential\n",
    "from tensorflow.keras.layers import Dense, Embedding, LSTM\n",
    "from sklearn.preprocessing import LabelEncoder, StandardScaler\n",
    "from sklearn.model_selection import train_test_split\n"
   ]
  },
  {
   "cell_type": "code",
   "execution_count": 15,
   "metadata": {},
   "outputs": [
    {
     "data": {
      "text/html": [
       "<div>\n",
       "<style scoped>\n",
       "    .dataframe tbody tr th:only-of-type {\n",
       "        vertical-align: middle;\n",
       "    }\n",
       "\n",
       "    .dataframe tbody tr th {\n",
       "        vertical-align: top;\n",
       "    }\n",
       "\n",
       "    .dataframe thead th {\n",
       "        text-align: right;\n",
       "    }\n",
       "</style>\n",
       "<table border=\"1\" class=\"dataframe\">\n",
       "  <thead>\n",
       "    <tr style=\"text-align: right;\">\n",
       "      <th></th>\n",
       "      <th>abstract</th>\n",
       "      <th>authors</th>\n",
       "      <th>n_citation</th>\n",
       "      <th>references</th>\n",
       "      <th>title</th>\n",
       "      <th>venue</th>\n",
       "      <th>year</th>\n",
       "      <th>id</th>\n",
       "    </tr>\n",
       "  </thead>\n",
       "  <tbody>\n",
       "    <tr>\n",
       "      <th>0</th>\n",
       "      <td>In this paper, a robust 3D triangular mesh wat...</td>\n",
       "      <td>['S. Ben Jabra', 'Ezzeddine Zagrouba']</td>\n",
       "      <td>50</td>\n",
       "      <td>['09cb2d7d-47d1-4a85-bfe5-faa8221e644b', '10aa...</td>\n",
       "      <td>A new approach of 3D watermarking based on ima...</td>\n",
       "      <td>international symposium on computers and commu...</td>\n",
       "      <td>2008</td>\n",
       "      <td>4ab3735c-80f1-472d-b953-fa0557fed28b</td>\n",
       "    </tr>\n",
       "    <tr>\n",
       "      <th>1</th>\n",
       "      <td>We studied an autoassociative neural network w...</td>\n",
       "      <td>['Joaquín J. Torres', 'Jesús M. Cortés', 'Joaq...</td>\n",
       "      <td>50</td>\n",
       "      <td>['4017c9d2-9845-4ad2-ad5b-ba65523727c5', 'b118...</td>\n",
       "      <td>Attractor neural networks with activity-depend...</td>\n",
       "      <td>Neurocomputing</td>\n",
       "      <td>2007</td>\n",
       "      <td>4ab39729-af77-46f7-a662-16984fb9c1db</td>\n",
       "    </tr>\n",
       "    <tr>\n",
       "      <th>2</th>\n",
       "      <td>It is well-known that Sturmian sequences are t...</td>\n",
       "      <td>['Genevi eve Paquin', 'Laurent Vuillon']</td>\n",
       "      <td>50</td>\n",
       "      <td>['1c655ee2-067d-4bc4-b8cc-bc779e9a7f10', '2e4e...</td>\n",
       "      <td>A characterization of balanced episturmian seq...</td>\n",
       "      <td>Electronic Journal of Combinatorics</td>\n",
       "      <td>2007</td>\n",
       "      <td>4ab3a4cf-1d96-4ce5-ab6f-b3e19fc260de</td>\n",
       "    </tr>\n",
       "    <tr>\n",
       "      <th>3</th>\n",
       "      <td>One of the fundamental challenges of recognizi...</td>\n",
       "      <td>['Yaser Sheikh', 'Mumtaz Sheikh', 'Mubarak Shah']</td>\n",
       "      <td>221</td>\n",
       "      <td>['056116c1-9e7a-4f9b-a918-44eb199e67d6', '05ac...</td>\n",
       "      <td>Exploring the space of a human action</td>\n",
       "      <td>international conference on computer vision</td>\n",
       "      <td>2005</td>\n",
       "      <td>4ab3a98c-3620-47ec-b578-884ecf4a6206</td>\n",
       "    </tr>\n",
       "    <tr>\n",
       "      <th>4</th>\n",
       "      <td>This paper generalizes previous optimal upper ...</td>\n",
       "      <td>['Efraim Laksman', 'Håkan Lennerstad', 'Magnus...</td>\n",
       "      <td>0</td>\n",
       "      <td>['01a765b8-0cb3-495c-996f-29c36756b435', '5dbc...</td>\n",
       "      <td>Generalized upper bounds on the minimum distan...</td>\n",
       "      <td>Ima Journal of Mathematical Control and Inform...</td>\n",
       "      <td>2015</td>\n",
       "      <td>4ab3b585-82b4-4207-91dd-b6bce7e27c4e</td>\n",
       "    </tr>\n",
       "  </tbody>\n",
       "</table>\n",
       "</div>"
      ],
      "text/plain": [
       "                                            abstract  \\\n",
       "0  In this paper, a robust 3D triangular mesh wat...   \n",
       "1  We studied an autoassociative neural network w...   \n",
       "2  It is well-known that Sturmian sequences are t...   \n",
       "3  One of the fundamental challenges of recognizi...   \n",
       "4  This paper generalizes previous optimal upper ...   \n",
       "\n",
       "                                             authors  n_citation  \\\n",
       "0             ['S. Ben Jabra', 'Ezzeddine Zagrouba']          50   \n",
       "1  ['Joaquín J. Torres', 'Jesús M. Cortés', 'Joaq...          50   \n",
       "2           ['Genevi eve Paquin', 'Laurent Vuillon']          50   \n",
       "3  ['Yaser Sheikh', 'Mumtaz Sheikh', 'Mubarak Shah']         221   \n",
       "4  ['Efraim Laksman', 'Håkan Lennerstad', 'Magnus...           0   \n",
       "\n",
       "                                          references  \\\n",
       "0  ['09cb2d7d-47d1-4a85-bfe5-faa8221e644b', '10aa...   \n",
       "1  ['4017c9d2-9845-4ad2-ad5b-ba65523727c5', 'b118...   \n",
       "2  ['1c655ee2-067d-4bc4-b8cc-bc779e9a7f10', '2e4e...   \n",
       "3  ['056116c1-9e7a-4f9b-a918-44eb199e67d6', '05ac...   \n",
       "4  ['01a765b8-0cb3-495c-996f-29c36756b435', '5dbc...   \n",
       "\n",
       "                                               title  \\\n",
       "0  A new approach of 3D watermarking based on ima...   \n",
       "1  Attractor neural networks with activity-depend...   \n",
       "2  A characterization of balanced episturmian seq...   \n",
       "3              Exploring the space of a human action   \n",
       "4  Generalized upper bounds on the minimum distan...   \n",
       "\n",
       "                                               venue  year  \\\n",
       "0  international symposium on computers and commu...  2008   \n",
       "1                                     Neurocomputing  2007   \n",
       "2                Electronic Journal of Combinatorics  2007   \n",
       "3        international conference on computer vision  2005   \n",
       "4  Ima Journal of Mathematical Control and Inform...  2015   \n",
       "\n",
       "                                     id  \n",
       "0  4ab3735c-80f1-472d-b953-fa0557fed28b  \n",
       "1  4ab39729-af77-46f7-a662-16984fb9c1db  \n",
       "2  4ab3a4cf-1d96-4ce5-ab6f-b3e19fc260de  \n",
       "3  4ab3a98c-3620-47ec-b578-884ecf4a6206  \n",
       "4  4ab3b585-82b4-4207-91dd-b6bce7e27c4e  "
      ]
     },
     "execution_count": 15,
     "metadata": {},
     "output_type": "execute_result"
    }
   ],
   "source": [
    "df = pd.read_csv(r\"C:\\Users\\adity\\Downloads\\dblp-v10.csv\")\n",
    "df.head()  # Display the first few rows"
   ]
  },
  {
   "cell_type": "code",
   "execution_count": 16,
   "metadata": {},
   "outputs": [
    {
     "data": {
      "text/plain": [
       "(1000000, 8)"
      ]
     },
     "execution_count": 16,
     "metadata": {},
     "output_type": "execute_result"
    }
   ],
   "source": [
    "df.shape"
   ]
  },
  {
   "cell_type": "code",
   "execution_count": 17,
   "metadata": {},
   "outputs": [
    {
     "name": "stdout",
     "output_type": "stream",
     "text": [
      "abstract      172467\n",
      "authors            2\n",
      "n_citation         0\n",
      "references    124417\n",
      "title              0\n",
      "venue         177755\n",
      "year               0\n",
      "id                 0\n",
      "dtype: int64\n"
     ]
    }
   ],
   "source": [
    "print(df.isnull().sum())\n"
   ]
  },
  {
   "cell_type": "code",
   "execution_count": 18,
   "metadata": {},
   "outputs": [],
   "source": [
    "df.dropna(subset=['authors'], inplace=True)  # Drop rows where authors are missing\n",
    "df['abstract'].fillna(\"Unknown\", inplace=True)\n",
    "df['venue'].fillna(\"Unknown\", inplace=True)\n",
    "df['references'].fillna(\"[]\", inplace=True)\n"
   ]
  },
  {
   "cell_type": "code",
   "execution_count": 19,
   "metadata": {},
   "outputs": [
    {
     "data": {
      "text/plain": [
       "(999998, 8)"
      ]
     },
     "execution_count": 19,
     "metadata": {},
     "output_type": "execute_result"
    }
   ],
   "source": [
    "df.shape"
   ]
  },
  {
   "cell_type": "code",
   "execution_count": 20,
   "metadata": {},
   "outputs": [],
   "source": [
    "df = df.dropna(subset=[\"abstract\"])\n",
    "df = df[df[\"n_citation\"] > 10]\n",
    "df = df.sample(n=100000, random_state=42)\n"
   ]
  },
  {
   "cell_type": "code",
   "execution_count": 21,
   "metadata": {},
   "outputs": [
    {
     "data": {
      "text/plain": [
       "(100000, 8)"
      ]
     },
     "execution_count": 21,
     "metadata": {},
     "output_type": "execute_result"
    }
   ],
   "source": [
    "df.shape\n"
   ]
  },
  {
   "cell_type": "code",
   "execution_count": 22,
   "metadata": {},
   "outputs": [
    {
     "data": {
      "text/html": [
       "<div>\n",
       "<style scoped>\n",
       "    .dataframe tbody tr th:only-of-type {\n",
       "        vertical-align: middle;\n",
       "    }\n",
       "\n",
       "    .dataframe tbody tr th {\n",
       "        vertical-align: top;\n",
       "    }\n",
       "\n",
       "    .dataframe thead th {\n",
       "        text-align: right;\n",
       "    }\n",
       "</style>\n",
       "<table border=\"1\" class=\"dataframe\">\n",
       "  <thead>\n",
       "    <tr style=\"text-align: right;\">\n",
       "      <th></th>\n",
       "      <th>abstract</th>\n",
       "      <th>authors</th>\n",
       "      <th>n_citation</th>\n",
       "      <th>references</th>\n",
       "      <th>title</th>\n",
       "      <th>venue</th>\n",
       "      <th>year</th>\n",
       "      <th>id</th>\n",
       "    </tr>\n",
       "  </thead>\n",
       "  <tbody>\n",
       "    <tr>\n",
       "      <th>184805</th>\n",
       "      <td>As mobile robots are taking on more and more o...</td>\n",
       "      <td>['Mansur R. Kabuka', 'Alvaro E. Arenas']</td>\n",
       "      <td>155</td>\n",
       "      <td>['4494f0d5-7bb5-429a-99ba-ecc26c614041', 'acf1...</td>\n",
       "      <td>Position verification of a mobile robot using ...</td>\n",
       "      <td>international conference on robotics and autom...</td>\n",
       "      <td>1987</td>\n",
       "      <td>88117b8f-4698-40d9-8a9d-2584a46adedb</td>\n",
       "    </tr>\n",
       "    <tr>\n",
       "      <th>151238</th>\n",
       "      <td>The NAR online Molecular Biology Database Coll...</td>\n",
       "      <td>['Michael Y. Galperin']</td>\n",
       "      <td>415</td>\n",
       "      <td>['031ee1f7-92be-41e4-8139-8566b48cd2d2', '04de...</td>\n",
       "      <td>The Molecular Biology Database Collection: 200...</td>\n",
       "      <td>Nucleic Acids Research</td>\n",
       "      <td>2004</td>\n",
       "      <td>7cf709fa-600a-47b7-bf29-90e73109f432</td>\n",
       "    </tr>\n",
       "    <tr>\n",
       "      <th>78501</th>\n",
       "      <td>When several models are proposed for one and t...</td>\n",
       "      <td>['Brecht Donckels', 'Dirk De Pauw', 'Peter Van...</td>\n",
       "      <td>14</td>\n",
       "      <td>[]</td>\n",
       "      <td>A Kernel-Based Method to Determine Optimal Sam...</td>\n",
       "      <td>Journal of Computational Chemistry</td>\n",
       "      <td>2009</td>\n",
       "      <td>64b9ab33-7ba4-4901-bc01-9354d1699a8a</td>\n",
       "    </tr>\n",
       "    <tr>\n",
       "      <th>86318</th>\n",
       "      <td>Several types of industrial Real-Time Ethernet...</td>\n",
       "      <td>['Paolo Ferrari', 'Alessandra Flammini', 'Stef...</td>\n",
       "      <td>50</td>\n",
       "      <td>['1d7f6dab-aca5-4f78-b759-043553a70f4d', '21ba...</td>\n",
       "      <td>On the Seamless Interconnection of IEEE1588-Ba...</td>\n",
       "      <td>IEEE Transactions on Industrial Informatics</td>\n",
       "      <td>2010</td>\n",
       "      <td>675680c0-ff8b-4702-9a0d-f29c1c7643b5</td>\n",
       "    </tr>\n",
       "    <tr>\n",
       "      <th>373597</th>\n",
       "      <td>Purpose – The purpose of this paper is to desc...</td>\n",
       "      <td>['Dimitri V. Zarzhitsky', 'Diana F. Spears', '...</td>\n",
       "      <td>50</td>\n",
       "      <td>['03ad315a-1710-4fd0-a4da-df8ad197a423', '08d8...</td>\n",
       "      <td>Experimental studies of swarm robotic chemical...</td>\n",
       "      <td>International Journal of Intelligent Computing...</td>\n",
       "      <td>2010</td>\n",
       "      <td>c6c32b3c-1131-4229-b719-8a99155f4cf3</td>\n",
       "    </tr>\n",
       "  </tbody>\n",
       "</table>\n",
       "</div>"
      ],
      "text/plain": [
       "                                                 abstract  \\\n",
       "184805  As mobile robots are taking on more and more o...   \n",
       "151238  The NAR online Molecular Biology Database Coll...   \n",
       "78501   When several models are proposed for one and t...   \n",
       "86318   Several types of industrial Real-Time Ethernet...   \n",
       "373597  Purpose – The purpose of this paper is to desc...   \n",
       "\n",
       "                                                  authors  n_citation  \\\n",
       "184805           ['Mansur R. Kabuka', 'Alvaro E. Arenas']         155   \n",
       "151238                            ['Michael Y. Galperin']         415   \n",
       "78501   ['Brecht Donckels', 'Dirk De Pauw', 'Peter Van...          14   \n",
       "86318   ['Paolo Ferrari', 'Alessandra Flammini', 'Stef...          50   \n",
       "373597  ['Dimitri V. Zarzhitsky', 'Diana F. Spears', '...          50   \n",
       "\n",
       "                                               references  \\\n",
       "184805  ['4494f0d5-7bb5-429a-99ba-ecc26c614041', 'acf1...   \n",
       "151238  ['031ee1f7-92be-41e4-8139-8566b48cd2d2', '04de...   \n",
       "78501                                                  []   \n",
       "86318   ['1d7f6dab-aca5-4f78-b759-043553a70f4d', '21ba...   \n",
       "373597  ['03ad315a-1710-4fd0-a4da-df8ad197a423', '08d8...   \n",
       "\n",
       "                                                    title  \\\n",
       "184805  Position verification of a mobile robot using ...   \n",
       "151238  The Molecular Biology Database Collection: 200...   \n",
       "78501   A Kernel-Based Method to Determine Optimal Sam...   \n",
       "86318   On the Seamless Interconnection of IEEE1588-Ba...   \n",
       "373597  Experimental studies of swarm robotic chemical...   \n",
       "\n",
       "                                                    venue  year  \\\n",
       "184805  international conference on robotics and autom...  1987   \n",
       "151238                             Nucleic Acids Research  2004   \n",
       "78501                  Journal of Computational Chemistry  2009   \n",
       "86318         IEEE Transactions on Industrial Informatics  2010   \n",
       "373597  International Journal of Intelligent Computing...  2010   \n",
       "\n",
       "                                          id  \n",
       "184805  88117b8f-4698-40d9-8a9d-2584a46adedb  \n",
       "151238  7cf709fa-600a-47b7-bf29-90e73109f432  \n",
       "78501   64b9ab33-7ba4-4901-bc01-9354d1699a8a  \n",
       "86318   675680c0-ff8b-4702-9a0d-f29c1c7643b5  \n",
       "373597  c6c32b3c-1131-4229-b719-8a99155f4cf3  "
      ]
     },
     "execution_count": 22,
     "metadata": {},
     "output_type": "execute_result"
    }
   ],
   "source": [
    "df.head()"
   ]
  },
  {
   "cell_type": "code",
   "execution_count": 23,
   "metadata": {},
   "outputs": [],
   "source": [
    "# Combine 'title' and 'abstract' into a single text column for better recommendations\n",
    "df['combined_text'] = df['title'] + \" \" + df['abstract']\n",
    "\n",
    "# Vectorize the text using TF-IDF\n",
    "vectorizer = TfidfVectorizer(stop_words='english')\n",
    "tfidf_matrix = vectorizer.fit_transform(df['combined_text'])"
   ]
  },
  {
   "cell_type": "code",
   "execution_count": 24,
   "metadata": {},
   "outputs": [],
   "source": [
    "def recommend_papers(query, top_n=3):\n",
    "    # Transform the user's query\n",
    "    query_vec = vectorizer.transform([query])\n",
    "    \n",
    "    # Compute cosine similarity between the query and all papers\n",
    "    cosine_sim = cosine_similarity(query_vec, tfidf_matrix)\n",
    "    \n",
    "    # Get indices of the most similar papers\n",
    "    similar_indices = cosine_sim.argsort()[0][-top_n:][::-1]\n",
    "    \n",
    "    # Prepare recommendations based on similarity\n",
    "    recommendations = []\n",
    "    for idx in similar_indices:\n",
    "        paper = df.iloc[idx]\n",
    "        recommendations.append({\n",
    "            'title': paper['title'],\n",
    "            'authors': paper['authors'],\n",
    "            'citations': paper['n_citation'],\n",
    "            'year': paper['year'],\n",
    "            'venue': paper['venue'],\n",
    "            'id': paper['id']\n",
    "        })\n",
    "    return recommendations"
   ]
  },
  {
   "cell_type": "code",
   "execution_count": 27,
   "metadata": {},
   "outputs": [
    {
     "name": "stdout",
     "output_type": "stream",
     "text": [
      "\n",
      "Model Accuracy (Cosine Similarity): 44.86%\n",
      "\n",
      "\n",
      "Recommended Papers:\n",
      "\n",
      "Title: Question Answering Systems in biology and medicine – the time is now\n",
      "Authors: [, ', J, o, n, a, t, h, a, n,  , D, .,  , W, r, e, n, ', ]\n",
      "Citations: 18\n",
      "Year: 2011\n",
      "Venue: Bioinformatics\n",
      "ID: f831505d-b92a-4659-b501-b5997f10dddd\n",
      "--------------------------------------------------\n",
      "Title: Speculations on Biology, Information and Complexity\n",
      "Authors: [, ', G, r, e, g, o, r, y,  , J, .,  , C, h, a, i, t, i, n, ', ]\n",
      "Citations: 50\n",
      "Year: 2006\n",
      "Venue: Bulletin of The European Association for Theoretical Computer Science\n",
      "ID: 13182ab7-2ee8-4f27-a7d6-aed2dbdb2323\n",
      "--------------------------------------------------\n",
      "Title: Algorithms on Strings, Trees, and Sequences: Computer Science and Computational Biology\n",
      "Authors: [, ', S, u, s, a, n,  , H, o, l, m, e, s, ', ,,  , ', D, a, n,  , G, u, s, f, i, e, l, d, ', ]\n",
      "Citations: 50\n",
      "Year: 1999\n",
      "Venue: Journal of the American Statistical Association\n",
      "ID: 5cf1a54c-78cb-406f-a108-2734fd8e79b1\n",
      "--------------------------------------------------\n"
     ]
    }
   ],
   "source": [
    "# Function to calculate the cosine similarity of the top recommended papers\n",
    "def calculate_similarity_accuracy(query, top_n=3):\n",
    "    # Transform the user's query\n",
    "    query_vec = vectorizer.transform([query])\n",
    "    \n",
    "    # Compute cosine similarity between the query and all papers\n",
    "    cosine_sim = cosine_similarity(query_vec, tfidf_matrix)\n",
    "    \n",
    "    # Get indices of the most similar papers\n",
    "    similar_indices = cosine_sim.argsort()[0][-top_n:][::-1]\n",
    "    \n",
    "    # Calculate the average cosine similarity of top_n papers\n",
    "    avg_similarity = cosine_sim[0][similar_indices].mean()\n",
    "    \n",
    "    return avg_similarity\n",
    "\n",
    "# Ask the user for a query\n",
    "query = input(\"Enter the research paper or topic of interest: \")\n",
    "\n",
    "# Calculate similarity-based accuracy\n",
    "accuracy = calculate_similarity_accuracy(query)\n",
    "\n",
    "# Display the accuracy and recommended papers\n",
    "print(f\"\\nModel Accuracy (Cosine Similarity): {accuracy * 100:.2f}%\\n\")\n",
    "\n",
    "recommended_papers = recommend_papers(query)\n",
    "\n",
    "if recommended_papers:\n",
    "    print(\"\\nRecommended Papers:\\n\")\n",
    "    for paper in recommended_papers:\n",
    "        print(f\"Title: {paper['title']}\")\n",
    "        print(f\"Authors: {', '.join(paper['authors'])}\")\n",
    "        print(f\"Citations: {paper['citations']}\")\n",
    "        print(f\"Year: {paper['year']}\")\n",
    "        print(f\"Venue: {paper['venue']}\")\n",
    "        print(f\"ID: {paper['id']}\")\n",
    "        print(\"-\" * 50)\n",
    "else:\n",
    "    print(\"No papers found for the given query.\")\n"
   ]
  },
  {
   "cell_type": "code",
   "execution_count": null,
   "metadata": {},
   "outputs": [],
   "source": []
  }
 ],
 "metadata": {
  "kernelspec": {
   "display_name": "Python 3",
   "language": "python",
   "name": "python3"
  },
  "language_info": {
   "codemirror_mode": {
    "name": "ipython",
    "version": 3
   },
   "file_extension": ".py",
   "mimetype": "text/x-python",
   "name": "python",
   "nbconvert_exporter": "python",
   "pygments_lexer": "ipython3",
   "version": "3.12.3"
  }
 },
 "nbformat": 4,
 "nbformat_minor": 2
}
