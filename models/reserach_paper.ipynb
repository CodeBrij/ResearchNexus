{
 "cells": [
  {
   "cell_type": "code",
   "execution_count": 60,
   "metadata": {},
   "outputs": [],
   "source": [
    "from tensorflow.keras import layers\n",
    "from tensorflow import keras\n",
    "import tensorflow as tf\n",
    "\n",
    "from sklearn.model_selection import train_test_split\n",
    "\n",
    "from ast import literal_eval\n",
    "\n",
    "import matplotlib.pyplot as plt\n",
    "import pandas as pd\n",
    "import numpy as np"
   ]
  },
  {
   "cell_type": "code",
   "execution_count": 61,
   "metadata": {},
   "outputs": [
    {
     "data": {
      "text/html": [
       "<div>\n",
       "<style scoped>\n",
       "    .dataframe tbody tr th:only-of-type {\n",
       "        vertical-align: middle;\n",
       "    }\n",
       "\n",
       "    .dataframe tbody tr th {\n",
       "        vertical-align: top;\n",
       "    }\n",
       "\n",
       "    .dataframe thead th {\n",
       "        text-align: right;\n",
       "    }\n",
       "</style>\n",
       "<table border=\"1\" class=\"dataframe\">\n",
       "  <thead>\n",
       "    <tr style=\"text-align: right;\">\n",
       "      <th></th>\n",
       "      <th>titles</th>\n",
       "      <th>summaries</th>\n",
       "      <th>terms</th>\n",
       "    </tr>\n",
       "  </thead>\n",
       "  <tbody>\n",
       "    <tr>\n",
       "      <th>0</th>\n",
       "      <td>Survey on Semantic Stereo Matching / Semantic ...</td>\n",
       "      <td>Stereo matching is one of the widely used tech...</td>\n",
       "      <td>['cs.CV', 'cs.LG']</td>\n",
       "    </tr>\n",
       "    <tr>\n",
       "      <th>1</th>\n",
       "      <td>FUTURE-AI: Guiding Principles and Consensus Re...</td>\n",
       "      <td>The recent advancements in artificial intellig...</td>\n",
       "      <td>['cs.CV', 'cs.AI', 'cs.LG']</td>\n",
       "    </tr>\n",
       "    <tr>\n",
       "      <th>2</th>\n",
       "      <td>Enforcing Mutual Consistency of Hard Regions f...</td>\n",
       "      <td>In this paper, we proposed a novel mutual cons...</td>\n",
       "      <td>['cs.CV', 'cs.AI']</td>\n",
       "    </tr>\n",
       "    <tr>\n",
       "      <th>3</th>\n",
       "      <td>Parameter Decoupling Strategy for Semi-supervi...</td>\n",
       "      <td>Consistency training has proven to be an advan...</td>\n",
       "      <td>['cs.CV']</td>\n",
       "    </tr>\n",
       "    <tr>\n",
       "      <th>4</th>\n",
       "      <td>Background-Foreground Segmentation for Interio...</td>\n",
       "      <td>To ensure safety in automated driving, the cor...</td>\n",
       "      <td>['cs.CV', 'cs.LG']</td>\n",
       "    </tr>\n",
       "  </tbody>\n",
       "</table>\n",
       "</div>"
      ],
      "text/plain": [
       "                                              titles  \\\n",
       "0  Survey on Semantic Stereo Matching / Semantic ...   \n",
       "1  FUTURE-AI: Guiding Principles and Consensus Re...   \n",
       "2  Enforcing Mutual Consistency of Hard Regions f...   \n",
       "3  Parameter Decoupling Strategy for Semi-supervi...   \n",
       "4  Background-Foreground Segmentation for Interio...   \n",
       "\n",
       "                                           summaries  \\\n",
       "0  Stereo matching is one of the widely used tech...   \n",
       "1  The recent advancements in artificial intellig...   \n",
       "2  In this paper, we proposed a novel mutual cons...   \n",
       "3  Consistency training has proven to be an advan...   \n",
       "4  To ensure safety in automated driving, the cor...   \n",
       "\n",
       "                         terms  \n",
       "0           ['cs.CV', 'cs.LG']  \n",
       "1  ['cs.CV', 'cs.AI', 'cs.LG']  \n",
       "2           ['cs.CV', 'cs.AI']  \n",
       "3                    ['cs.CV']  \n",
       "4           ['cs.CV', 'cs.LG']  "
      ]
     },
     "execution_count": 61,
     "metadata": {},
     "output_type": "execute_result"
    }
   ],
   "source": [
    "file_path = r\"C:\\Users\\adity\\Downloads\\arxiv_data.csv\"\n",
    "\n",
    "arxiv_data = pd.read_csv(file_path)\n",
    "arxiv_data.head()"
   ]
  },
  {
   "cell_type": "code",
   "execution_count": 62,
   "metadata": {},
   "outputs": [
    {
     "data": {
      "text/plain": [
       "(51774, 3)"
      ]
     },
     "execution_count": 62,
     "metadata": {},
     "output_type": "execute_result"
    }
   ],
   "source": [
    "arxiv_data.shape"
   ]
  },
  {
   "cell_type": "code",
   "execution_count": 63,
   "metadata": {},
   "outputs": [
    {
     "data": {
      "text/plain": [
       "12783"
      ]
     },
     "execution_count": 63,
     "metadata": {},
     "output_type": "execute_result"
    }
   ],
   "source": [
    "arxiv_data.duplicated().sum()"
   ]
  },
  {
   "cell_type": "code",
   "execution_count": 65,
   "metadata": {},
   "outputs": [],
   "source": [
    "labels_column = arxiv_data['terms'].apply(literal_eval)\n",
    "labels = labels_column.explode().unique()"
   ]
  },
  {
   "cell_type": "code",
   "execution_count": 66,
   "metadata": {},
   "outputs": [
    {
     "name": "stdout",
     "output_type": "stream",
     "text": [
      "['cs.CV' 'cs.LG' 'cs.AI' ... 'I.2.6; I.5.1; G.3'\n",
      " '92E10, 46M20, 94A08, 68U10, 44A12, 55R35' '92E10']\n",
      "1099\n"
     ]
    }
   ],
   "source": [
    "print(labels)\n",
    "print(len(labels))"
   ]
  },
  {
   "cell_type": "code",
   "execution_count": 68,
   "metadata": {},
   "outputs": [],
   "source": [
    "arxiv_data = arxiv_data[~arxiv_data['titles'].duplicated()]"
   ]
  },
  {
   "cell_type": "code",
   "execution_count": 69,
   "metadata": {},
   "outputs": [
    {
     "data": {
      "text/plain": [
       "(38972, 3)"
      ]
     },
     "execution_count": 69,
     "metadata": {},
     "output_type": "execute_result"
    }
   ],
   "source": [
    "arxiv_data.shape"
   ]
  },
  {
   "cell_type": "code",
   "execution_count": 72,
   "metadata": {},
   "outputs": [
    {
     "name": "stdout",
     "output_type": "stream",
     "text": [
      "2321\n",
      "3157\n"
     ]
    }
   ],
   "source": [
    "print(sum(arxiv_data['terms'].value_counts() == 1))\n",
    "print(arxiv_data['terms'].nunique())"
   ]
  },
  {
   "cell_type": "code",
   "execution_count": 75,
   "metadata": {},
   "outputs": [
    {
     "data": {
      "text/plain": [
       "(36651, 3)"
      ]
     },
     "execution_count": 75,
     "metadata": {},
     "output_type": "execute_result"
    }
   ],
   "source": [
    "arxiv_data_filtered = arxiv_data.groupby('terms').filter(lambda x: len(x) > 1)\n",
    "arxiv_data_filtered.shape"
   ]
  },
  {
   "cell_type": "code",
   "execution_count": 102,
   "metadata": {},
   "outputs": [
    {
     "data": {
      "text/plain": [
       "array([list(['cs.CV', 'cs.LG']), list(['cs.CV', 'cs.AI', 'cs.LG']),\n",
       "       list(['cs.CV', 'cs.AI'])], dtype=object)"
      ]
     },
     "execution_count": 102,
     "metadata": {},
     "output_type": "execute_result"
    }
   ],
   "source": [
    "arxiv_data_filtered['terms'] = arxiv_data_filtered['terms'].apply(lambda x: literal_eval(x))\n",
    "arxiv_data_filtered['terms'].values[:3]"
   ]
  },
  {
   "cell_type": "code",
   "execution_count": 103,
   "metadata": {},
   "outputs": [],
   "source": [
    "train_df, test_df = train_test_split(arxiv_data_filtered, test_size = 0.1, stratify=arxiv_data_filtered['terms'].values,)"
   ]
  },
  {
   "cell_type": "code",
   "execution_count": 104,
   "metadata": {},
   "outputs": [
    {
     "data": {
      "text/plain": [
       "(32985, 3)"
      ]
     },
     "execution_count": 104,
     "metadata": {},
     "output_type": "execute_result"
    }
   ],
   "source": [
    "train_df.shape"
   ]
  },
  {
   "cell_type": "code",
   "execution_count": 105,
   "metadata": {},
   "outputs": [
    {
     "data": {
      "text/plain": [
       "(3666, 3)"
      ]
     },
     "execution_count": 105,
     "metadata": {},
     "output_type": "execute_result"
    }
   ],
   "source": [
    "test_df.shape"
   ]
  },
  {
   "cell_type": "code",
   "execution_count": 106,
   "metadata": {},
   "outputs": [],
   "source": [
    "val_df = test_df.sample(frac = 0.5)\n",
    "test_df.drop(val_df.index, inplace=True)"
   ]
  },
  {
   "cell_type": "code",
   "execution_count": 107,
   "metadata": {},
   "outputs": [
    {
     "data": {
      "text/plain": [
       "((1833, 3), (1833, 3))"
      ]
     },
     "execution_count": 107,
     "metadata": {},
     "output_type": "execute_result"
    }
   ],
   "source": [
    "val_df.shape, test_df.shape"
   ]
  },
  {
   "cell_type": "code",
   "execution_count": 108,
   "metadata": {},
   "outputs": [
    {
     "data": {
      "text/plain": [
       "(32985, 3)"
      ]
     },
     "execution_count": 108,
     "metadata": {},
     "output_type": "execute_result"
    }
   ],
   "source": [
    "train_df.shape"
   ]
  },
  {
   "cell_type": "code",
   "execution_count": 109,
   "metadata": {},
   "outputs": [],
   "source": [
    "terms = tf.ragged.constant(train_df['terms'])\n",
    "lookup = tf.keras.layers.StringLookup(output_mode='multi_hot')\n",
    "lookup.adapt(terms)\n",
    "vocab = lookup.get_vocabulary()"
   ]
  },
  {
   "cell_type": "code",
   "execution_count": 110,
   "metadata": {},
   "outputs": [
    {
     "data": {
      "text/plain": [
       "19760    [cs.LG, cs.NE, physics.data-an, stat.ML]\n",
       "30876                [cs.CV, cs.AI, cs.LG, cs.MM]\n",
       "41677                              [cs.CV, cs.LG]\n",
       "32109                     [cs.LG, cs.IT, math.IT]\n",
       "13300                            [cs.LG, stat.ML]\n",
       "                           ...                   \n",
       "23679                                     [cs.CV]\n",
       "22463                                     [cs.LG]\n",
       "2449                               [cs.LG, cs.AI]\n",
       "43228                                     [cs.CV]\n",
       "34217                     [cs.LG, cs.AI, stat.ML]\n",
       "Name: terms, Length: 32985, dtype: object"
      ]
     },
     "execution_count": 110,
     "metadata": {},
     "output_type": "execute_result"
    }
   ],
   "source": [
    "train_df['terms']"
   ]
  },
  {
   "cell_type": "code",
   "execution_count": 111,
   "metadata": {},
   "outputs": [
    {
     "name": "stdout",
     "output_type": "stream",
     "text": [
      "['cs.LG', 'cs.IT', 'math.IT']\n",
      "tf.Tensor(\n",
      "[[0 0 1 0 0 0 0 0 0 0 0 0 0 0 0 0 0 0 0 0 1 1 0 0 0 0 0 0 0 0 0 0 0 0 0 0\n",
      "  0 0 0 0 0 0 0 0 0 0 0 0 0 0 0 0 0 0 0 0 0 0 0 0 0 0 0 0 0 0 0 0 0 0 0 0\n",
      "  0 0 0 0 0 0 0 0 0 0 0 0 0 0 0 0 0 0 0 0 0 0 0 0 0 0 0 0 0 0 0 0 0 0 0 0\n",
      "  0 0 0 0 0 0 0 0 0 0 0 0 0 0 0 0 0 0 0 0 0 0 0 0 0 0 0 0 0 0 0 0 0 0 0 0\n",
      "  0 0 0 0 0 0 0 0 0]], shape=(1, 153), dtype=int64)\n"
     ]
    }
   ],
   "source": [
    "sample_label = train_df['terms'].iloc[3]\n",
    "print(sample_label)\n",
    "label_binarized = lookup([sample_label])\n",
    "print(label_binarized)"
   ]
  },
  {
   "cell_type": "code",
   "execution_count": 112,
   "metadata": {},
   "outputs": [],
   "source": [
    "max_seqlen = 150\n",
    "batch_size = 128\n",
    "padding_token = \"<pad>\"\n",
    "auto = tf.data.AUTOTUNE\n",
    "\n",
    "def make_dataset(dataframe, is_train=True):\n",
    "    labels = tf.ragged.constant(dataframe[\"terms\"].values)\n",
    "    label_binarized = lookup(labels).numpy()\n",
    "    dataset = tf.data.Dataset.from_tensor_slices((dataframe[\"summaries\"].values, label_binarized))\n",
    "    dataset = dataset.shuffle(batch_size * 10) if is_train else dataset\n",
    "    \n",
    "    return dataset.batch(batch_size)\n",
    "\n",
    "train_dataset = make_dataset(train_df, is_train=True)\n",
    "validation_dataset = make_dataset(val_df, is_train=False)\n",
    "test_dataset = make_dataset(test_df, is_train=False)"
   ]
  },
  {
   "cell_type": "code",
   "execution_count": 118,
   "metadata": {},
   "outputs": [
    {
     "name": "stdout",
     "output_type": "stream",
     "text": [
      "Abstract: b'Scene graph generation has received growing attention with the advancements\\nin image understanding tasks such as object detection, attributes and\\nrelationship prediction,~\\\\etc. However, existing datasets are biased in terms\\nof object and relationship labels, or often come with noisy and missing\\nannotations, which makes the development of a reliable scene graph prediction\\nmodel very challenging. In this paper, we propose a novel scene graph\\ngeneration algorithm with external knowledge and image reconstruction loss to\\novercome these dataset issues. In particular, we extract commonsense knowledge\\nfrom the external knowledge base to refine object and phrase features for\\nimproving generalizability in scene graph generation. To address the bias of\\nnoisy object annotations, we introduce an auxiliary image reconstruction path\\nto regularize the scene graph generation network. Extensive experiments show\\nthat our framework can generate better scene graphs, achieving the\\nstate-of-the-art performance on two benchmark datasets: Visual Relationship\\nDetection and Visual Genome datasets.'\n",
      "['[UNK]']\n",
      "Abstract: b'We present an unsupervised learning framework for simultaneously training\\nsingle-view depth prediction and optical flow estimation models using unlabeled\\nvideo sequences. Existing unsupervised methods often exploit brightness\\nconstancy and spatial smoothness priors to train depth or flow models. In this\\npaper, we propose to leverage geometric consistency as additional supervisory\\nsignals. Our core idea is that for rigid regions we can use the predicted scene\\ndepth and camera motion to synthesize 2D optical flow by backprojecting the\\ninduced 3D scene flow. The discrepancy between the rigid flow (from depth\\nprediction and camera motion) and the estimated flow (from optical flow model)\\nallows us to impose a cross-task consistency loss. While all the networks are\\njointly optimized during training, they can be applied independently at test\\ntime. Extensive experiments demonstrate that our depth and flow models compare\\nfavorably with state-of-the-art unsupervised methods.'\n",
      "['[UNK]']\n",
      "Abstract: b'Deep latent variable models (LVM) such as variational auto-encoder (VAE) have\\nrecently played an important role in text generation. One key factor is the\\nexploitation of smooth latent structures to guide the generation. However, the\\nrepresentation power of VAEs is limited due to two reasons: (1) the Gaussian\\nassumption is often made on the variational posteriors; and meanwhile (2) a\\nnotorious \"posterior collapse\" issue occurs. In this paper, we advocate\\nsample-based representations of variational distributions for natural language,\\nleading to implicit latent features, which can provide flexible representation\\npower compared with Gaussian-based posteriors. We further develop an LVM to\\ndirectly match the aggregated posterior to the prior. It can be viewed as a\\nnatural extension of VAEs with a regularization of maximizing mutual\\ninformation, mitigating the \"posterior collapse\" issue. We demonstrate the\\neffectiveness and versatility of our models in various text generation\\nscenarios, including language modeling, unaligned style transfer, and dialog\\nresponse generation. The source code to reproduce our experimental results is\\navailable on GitHub.'\n",
      "['[UNK]' '[UNK]' '[UNK]']\n",
      "Abstract: b'We propose an approach to learning with graph-structured data in the problem\\ndomain of graph classification. In particular, we present a novel type of\\nreadout operation to aggregate node features into a graph-level representation.\\nTo this end, we leverage persistent homology computed via a real-valued,\\nlearnable, filter function. We establish the theoretical foundation for\\ndifferentiating through the persistent homology computation. Empirically, we\\nshow that this type of readout operation compares favorably to previous\\ntechniques, especially when the graph connectivity structure is informative for\\nthe learning problem.'\n",
      "['[UNK]' '[UNK]' '[UNK]']\n",
      "Abstract: b'Reinforcement learning has exceeded human-level performance in game playing\\nAI with deep learning methods according to the experiments from DeepMind on Go\\nand Atari games. Deep learning solves high dimension input problems which stop\\nthe development of reinforcement for many years. This study uses both two\\ntechniques to create several agents with different algorithms that successfully\\nlearn to play T-rex Runner. Deep Q network algorithm and three types of\\nimprovements are implemented to train the agent. The results from some of them\\nare far from satisfactory but others are better than human experts. Batch\\nnormalization is a method to solve internal covariate shift problems in deep\\nneural network. The positive influence of this on reinforcement learning has\\nalso been proved in this study.'\n",
      "['[UNK]' '[UNK]']\n"
     ]
    }
   ],
   "source": [
    "def invert_multi_hot(encoded_labels):\n",
    "    hot_indices = np.argwhere(encoded_labels == 1.0)[...,0]\n",
    "    return np.take(vocab, hot_indices)\n",
    "\n",
    "text_batch, label_batch = next(iter(train_dataset))\n",
    "for i, text in enumerate(text_batch[:5]):\n",
    "    label = label_batch[i].numpy()[None, ...]\n",
    "    print(f\"Abstract: {text}\")\n",
    "    print(invert_multi_hot(label))"
   ]
  },
  {
   "cell_type": "code",
   "execution_count": 120,
   "metadata": {},
   "outputs": [
    {
     "name": "stdout",
     "output_type": "stream",
     "text": [
      "153474\n"
     ]
    }
   ],
   "source": [
    "vocabulary = set()\n",
    "train_df[\"summaries\"].str.lower().str.split().apply(vocabulary.update)\n",
    "vocabulary_size = len(vocabulary)\n",
    "print(vocabulary_size)"
   ]
  },
  {
   "cell_type": "markdown",
   "metadata": {},
   "source": [
    "text vectorization"
   ]
  },
  {
   "cell_type": "code",
   "execution_count": 121,
   "metadata": {},
   "outputs": [],
   "source": [
    "text_vectorizer = layers.TextVectorization(max_tokens=vocabulary_size,ngrams=2,output_mode=\"tf_idf\")\n",
    "text_vectorizer.adapt(train_dataset.map(lambda text, label: text))"
   ]
  },
  {
   "cell_type": "code",
   "execution_count": 122,
   "metadata": {},
   "outputs": [],
   "source": [
    "train_dataset = train_dataset.map(lambda text, label: (text_vectorizer(text), label), num_parallel_calls=auto).prefetch(auto)\n",
    "validation_dataset = validation_dataset.map(lambda text, label: (text_vectorizer(text), label), num_parallel_calls=auto).prefetch(auto)\n",
    "test_dataset = test_dataset.map(lambda text, label: (text_vectorizer(text), label), num_parallel_calls=auto).prefetch(auto)"
   ]
  },
  {
   "cell_type": "markdown",
   "metadata": {},
   "source": [
    "train the model"
   ]
  },
  {
   "cell_type": "code",
   "execution_count": null,
   "metadata": {},
   "outputs": [
    {
     "data": {
      "text/plain": [
       "<Sequential name=sequential_1, built=False>"
      ]
     },
     "execution_count": 125,
     "metadata": {},
     "output_type": "execute_result"
    }
   ],
   "source": [
    "model1 = keras.Sequential([\n",
    "    layers.Dense(512, activation='relu'),\n",
    "    layers.Dropout(0.5),\n",
    "    layers.Dense(256, activation='relu'),\n",
    "    layers.Dropout(0.5),\n",
    "    layers.Dense(lookup.vocabulary_size(), activation='sigmoid')\n",
    "])\n",
    "model1.compile(loss='binary_crossentropy', optimizers='adam', metrices=['binary_accuracy'])\n",
    "\n",
    "model.fit(train_dataset, validation_data=val_dataset, epoch = 20, )"
   ]
  },
  {
   "cell_type": "code",
   "execution_count": 126,
   "metadata": {},
   "outputs": [
    {
     "name": "stdout",
     "output_type": "stream",
     "text": [
      "Epoch 1/20\n",
      "\u001b[1m258/258\u001b[0m \u001b[32m━━━━━━━━━━━━━━━━━━━━\u001b[0m\u001b[37m\u001b[0m \u001b[1m98s\u001b[0m 359ms/step - binary_accuracy: 0.9460 - loss: 0.1280 - val_binary_accuracy: 0.9944 - val_loss: 0.0191\n",
      "Epoch 2/20\n",
      "\u001b[1m258/258\u001b[0m \u001b[32m━━━━━━━━━━━━━━━━━━━━\u001b[0m\u001b[37m\u001b[0m \u001b[1m89s\u001b[0m 345ms/step - binary_accuracy: 0.9944 - loss: 0.0201 - val_binary_accuracy: 0.9945 - val_loss: 0.0192\n",
      "Epoch 3/20\n",
      "\u001b[1m258/258\u001b[0m \u001b[32m━━━━━━━━━━━━━━━━━━━━\u001b[0m\u001b[37m\u001b[0m \u001b[1m86s\u001b[0m 334ms/step - binary_accuracy: 0.9955 - loss: 0.0152 - val_binary_accuracy: 0.9944 - val_loss: 0.0194\n",
      "Epoch 4/20\n",
      "\u001b[1m258/258\u001b[0m \u001b[32m━━━━━━━━━━━━━━━━━━━━\u001b[0m\u001b[37m\u001b[0m \u001b[1m266s\u001b[0m 1s/step - binary_accuracy: 0.9963 - loss: 0.0123 - val_binary_accuracy: 0.9944 - val_loss: 0.0198\n",
      "Epoch 5/20\n",
      "\u001b[1m258/258\u001b[0m \u001b[32m━━━━━━━━━━━━━━━━━━━━\u001b[0m\u001b[37m\u001b[0m \u001b[1m87s\u001b[0m 336ms/step - binary_accuracy: 0.9969 - loss: 0.0103 - val_binary_accuracy: 0.9944 - val_loss: 0.0209\n",
      "Epoch 6/20\n",
      "\u001b[1m258/258\u001b[0m \u001b[32m━━━━━━━━━━━━━━━━━━━━\u001b[0m\u001b[37m\u001b[0m \u001b[1m94s\u001b[0m 365ms/step - binary_accuracy: 0.9973 - loss: 0.0091 - val_binary_accuracy: 0.9943 - val_loss: 0.0210\n"
     ]
    }
   ],
   "source": [
    "from tensorflow.keras.callbacks import EarlyStopping\n",
    "\n",
    "# Creating shallow_mlp_model (MLP) with dropout layers\n",
    "model1 = keras.Sequential([\n",
    "    # First hidden layer: 512 neurons, ReLU activation function, with dropout.\n",
    "    layers.Dense(512, activation=\"relu\"),\n",
    "    layers.Dropout(0.5),  # Adding dropout for regularization.\n",
    "\n",
    "    # Second hidden layer: 256 neurons, ReLU activation function, with dropout.\n",
    "    layers.Dense(256, activation=\"relu\"),\n",
    "    layers.Dropout(0.5),  # Adding dropout for regularization.\n",
    "\n",
    "    # Output layer: The number of neurons equals the vocabulary size (output vocabulary of the StringLookup layer), with a sigmoid activation function.\n",
    "    layers.Dense(lookup.vocabulary_size(), activation='sigmoid')\n",
    "])\n",
    "\n",
    "# Compile the model\n",
    "model1.compile(loss=\"binary_crossentropy\", optimizer='adam', metrics=['binary_accuracy'])\n",
    "\n",
    "# Add early stopping\n",
    "# Number of epochs with no improvement after which training will be stopped.\n",
    "# Restore weights from the epoch with the best value of the monitored quantity.\n",
    "early_stopping = EarlyStopping(patience=5,restore_best_weights=True)\n",
    "\n",
    "# Train the model\n",
    "# Add early stopping callback.verbose=1\n",
    "history = model1.fit(train_dataset,validation_data=validation_dataset,epochs=20,callbacks=[early_stopping])"
   ]
  },
  {
   "cell_type": "code",
   "execution_count": 127,
   "metadata": {},
   "outputs": [
    {
     "data": {
      "image/png": "[encoded data removed]",
      "text/plain": [
       "<Figure size 640x480 with 1 Axes>"
      ]
     },
     "metadata": {},
     "output_type": "display_data"
    },
    {
     "data": {
      "image/png": "[encoded data removed]",
      "text/plain": [
       "<Figure size 640x480 with 1 Axes>"
      ]
     },
     "metadata": {},
     "output_type": "display_data"
    }
   ],
   "source": [
    "def plot_result(item):\n",
    "    plt.plot(history.history[item], label=item)\n",
    "    plt.plot(history.history[\"val_\" + item], label=\"val_\" + item)\n",
    "    plt.xlabel(\"Epochs\")\n",
    "    plt.ylabel(item)\n",
    "    plt.title(\"Train and Validation {} Over Epochs\".format(item), fontsize=14)\n",
    "    plt.legend()\n",
    "    plt.grid()\n",
    "    plt.show()\n",
    "\n",
    "\n",
    "plot_result(\"loss\")\n",
    "plot_result(\"binary_accuracy\")"
   ]
  },
  {
   "cell_type": "code",
   "execution_count": 128,
   "metadata": {},
   "outputs": [
    {
     "name": "stdout",
     "output_type": "stream",
     "text": [
      "\u001b[1m15/15\u001b[0m \u001b[32m━━━━━━━━━━━━━━━━━━━━\u001b[0m\u001b[37m\u001b[0m \u001b[1m1s\u001b[0m 49ms/step - binary_accuracy: 0.9943 - loss: 0.0192\n",
      "\u001b[1m15/15\u001b[0m \u001b[32m━━━━━━━━━━━━━━━━━━━━\u001b[0m\u001b[37m\u001b[0m \u001b[1m1s\u001b[0m 47ms/step - binary_accuracy: 0.9941 - loss: 0.0201\n",
      "Categorical accuracy on the test set: 99.42%.\n",
      "Categorical accuracy on the validation set: 99.44%.\n"
     ]
    }
   ],
   "source": [
    "_, binary_acc1 = model1.evaluate(test_dataset)\n",
    "_, binary_acc2 = model1.evaluate(validation_dataset)\n",
    "\n",
    "print(f\"Categorical accuracy on the test set: {round(binary_acc1 * 100, 2)}%.\")\n",
    "print(f\"Categorical accuracy on the validation set: {round(binary_acc2 * 100, 2)}%.\")"
   ]
  },
  {
   "cell_type": "code",
   "execution_count": 129,
   "metadata": {},
   "outputs": [
    {
     "name": "stderr",
     "output_type": "stream",
     "text": [
      "WARNING:absl:You are saving your model as an HDF5 file via `model.save()` or `keras.saving.save_model(model)`. This file format is considered legacy. We recommend using instead the native Keras format, e.g. `model.save('my_model.keras')` or `keras.saving.save_model(model, 'my_model.keras')`. \n"
     ]
    }
   ],
   "source": [
    "model1.save(\"models/model.h5\")\n",
    "\n",
    "saved_text_vectorizer_config = text_vectorizer.get_config()\n",
    "with open(\"models/text_vectorizer_config.pkl\", \"wb\") as f:\n",
    "    pickle.dump(saved_text_vectorizer_config, f)\n",
    "\n",
    "with open(\"models/vocab.pkl\", \"wb\") as f:\n",
    "    pickle.dump(vocab, f)"
   ]
  },
  {
   "cell_type": "code",
   "execution_count": 143,
   "metadata": {},
   "outputs": [
    {
     "name": "stderr",
     "output_type": "stream",
     "text": [
      "WARNING:absl:Compiled the loaded model, but the compiled metrics have yet to be built. `model.compile_metrics` will be empty until you train or evaluate the model.\n"
     ]
    },
    {
     "name": "stdout",
     "output_type": "stream",
     "text": [
      "✅ Successfully loaded TextVectorization layer (without tf_idf weights)!\n"
     ]
    }
   ],
   "source": [
    "import pickle\n",
    "from tensorflow import keras\n",
    "from tensorflow.keras.layers import TextVectorization\n",
    "\n",
    "# Load the model\n",
    "loaded_model = keras.models.load_model(\"models/model.h5\")\n",
    "\n",
    "# Load TextVectorization config\n",
    "with open(\"models/text_vectorizer_config.pkl\", \"rb\") as f:\n",
    "    saved_text_vectorizer_config = pickle.load(f)\n",
    "\n",
    "# ✅ **Modify the config to avoid tf_idf**\n",
    "saved_text_vectorizer_config[\"output_mode\"] = \"int\"  # Or \"multi_hot\", \"count\", etc.\n",
    "\n",
    "# Load the vocabulary\n",
    "with open(\"models/vocab.pkl\", \"rb\") as f:\n",
    "    loaded_vocab = pickle.load(f)\n",
    "\n",
    "# ✅ **Recreate the TextVectorization layer**\n",
    "new_text_vectorizer = TextVectorization.from_config(saved_text_vectorizer_config)\n",
    "new_text_vectorizer.set_vocabulary(loaded_vocab)\n",
    "\n",
    "print(\"✅ Successfully loaded TextVectorization layer (without tf_idf weights)!\")\n"
   ]
  },
  {
   "cell_type": "code",
   "execution_count": 151,
   "metadata": {},
   "outputs": [],
   "source": [
    "def invert_multi_hot(encoded_labels):\n",
    "    hot_indices = np.argwhere(encoded_labels == 1.0)[..., 0]\n",
    "    return np.take(loaded_vocab, hot_indices)\n",
    "\n",
    "def predict_category(summaries, model, vectorizer, label_lookup):\n",
    "    preprocessed_abstract = vectorizer([summaries])\n",
    "\n",
    "    predictions = model.predict(preprocessed_abstract)\n",
    "\n",
    "    predicted_labels = label_lookup(np.round(predictions).astype(int)[0])\n",
    "\n",
    "    return predicted_labels"
   ]
  },
  {
   "cell_type": "code",
   "execution_count": null,
   "metadata": {},
   "outputs": [],
   "source": []
  },
  {
   "cell_type": "code",
   "execution_count": null,
   "metadata": {},
   "outputs": [],
   "source": []
  },
  {
   "cell_type": "code",
   "execution_count": null,
   "metadata": {},
   "outputs": [],
   "source": []
  },
  {
   "cell_type": "markdown",
   "metadata": {},
   "source": [
    "recommendation system"
   ]
  },
  {
   "cell_type": "code",
   "execution_count": 32,
   "metadata": {},
   "outputs": [
    {
     "data": {
      "text/html": [
       "<div>\n",
       "<style scoped>\n",
       "    .dataframe tbody tr th:only-of-type {\n",
       "        vertical-align: middle;\n",
       "    }\n",
       "\n",
       "    .dataframe tbody tr th {\n",
       "        vertical-align: top;\n",
       "    }\n",
       "\n",
       "    .dataframe thead th {\n",
       "        text-align: right;\n",
       "    }\n",
       "</style>\n",
       "<table border=\"1\" class=\"dataframe\">\n",
       "  <thead>\n",
       "    <tr style=\"text-align: right;\">\n",
       "      <th></th>\n",
       "      <th>titles</th>\n",
       "    </tr>\n",
       "  </thead>\n",
       "  <tbody>\n",
       "    <tr>\n",
       "      <th>0</th>\n",
       "      <td>Survey on Semantic Stereo Matching / Semantic ...</td>\n",
       "    </tr>\n",
       "    <tr>\n",
       "      <th>1</th>\n",
       "      <td>FUTURE-AI: Guiding Principles and Consensus Re...</td>\n",
       "    </tr>\n",
       "    <tr>\n",
       "      <th>2</th>\n",
       "      <td>Enforcing Mutual Consistency of Hard Regions f...</td>\n",
       "    </tr>\n",
       "    <tr>\n",
       "      <th>3</th>\n",
       "      <td>Parameter Decoupling Strategy for Semi-supervi...</td>\n",
       "    </tr>\n",
       "    <tr>\n",
       "      <th>4</th>\n",
       "      <td>Background-Foreground Segmentation for Interio...</td>\n",
       "    </tr>\n",
       "    <tr>\n",
       "      <th>...</th>\n",
       "      <td>...</td>\n",
       "    </tr>\n",
       "    <tr>\n",
       "      <th>51769</th>\n",
       "      <td>Hierarchically-coupled hidden Markov models fo...</td>\n",
       "    </tr>\n",
       "    <tr>\n",
       "      <th>51770</th>\n",
       "      <td>Blinking Molecule Tracking</td>\n",
       "    </tr>\n",
       "    <tr>\n",
       "      <th>51771</th>\n",
       "      <td>Towards a Mathematical Foundation of Immunolog...</td>\n",
       "    </tr>\n",
       "    <tr>\n",
       "      <th>51772</th>\n",
       "      <td>A Semi-Automatic Graph-Based Approach for Dete...</td>\n",
       "    </tr>\n",
       "    <tr>\n",
       "      <th>51773</th>\n",
       "      <td>SparseCodePicking: feature extraction in mass ...</td>\n",
       "    </tr>\n",
       "  </tbody>\n",
       "</table>\n",
       "<p>51774 rows × 1 columns</p>\n",
       "</div>"
      ],
      "text/plain": [
       "                                                  titles\n",
       "0      Survey on Semantic Stereo Matching / Semantic ...\n",
       "1      FUTURE-AI: Guiding Principles and Consensus Re...\n",
       "2      Enforcing Mutual Consistency of Hard Regions f...\n",
       "3      Parameter Decoupling Strategy for Semi-supervi...\n",
       "4      Background-Foreground Segmentation for Interio...\n",
       "...                                                  ...\n",
       "51769  Hierarchically-coupled hidden Markov models fo...\n",
       "51770                         Blinking Molecule Tracking\n",
       "51771  Towards a Mathematical Foundation of Immunolog...\n",
       "51772  A Semi-Automatic Graph-Based Approach for Dete...\n",
       "51773  SparseCodePicking: feature extraction in mass ...\n",
       "\n",
       "[51774 rows x 1 columns]"
      ]
     },
     "execution_count": 32,
     "metadata": {},
     "output_type": "execute_result"
    }
   ],
   "source": [
    "arxiv_data.drop(columns=['terms','summaries'], inplace=True)\n",
    "arxiv_data"
   ]
  },
  {
   "cell_type": "markdown",
   "metadata": {},
   "source": [
    "sentence transformers"
   ]
  },
  {
   "cell_type": "code",
   "execution_count": 33,
   "metadata": {},
   "outputs": [],
   "source": [
    "from sentence_transformers import SentenceTransformer, util"
   ]
  },
  {
   "cell_type": "code",
   "execution_count": 34,
   "metadata": {},
   "outputs": [
    {
     "name": "stderr",
     "output_type": "stream",
     "text": [
      "c:\\Users\\adity\\AppData\\Local\\Programs\\Python\\Python312\\Lib\\site-packages\\huggingface_hub\\file_download.py:1132: FutureWarning: `resume_download` is deprecated and will be removed in version 1.0.0. Downloads always resume when possible. If you want to force a new download, use `force_download=True`.\n",
      "  warnings.warn(\n"
     ]
    }
   ],
   "source": [
    "model = SentenceTransformer('all-MiniLM-l6-v2')"
   ]
  },
  {
   "cell_type": "code",
   "execution_count": 35,
   "metadata": {},
   "outputs": [],
   "source": [
    "sentences = arxiv_data['titles']"
   ]
  },
  {
   "cell_type": "code",
   "execution_count": 36,
   "metadata": {},
   "outputs": [],
   "source": [
    "embeddings = model.encode(sentences)"
   ]
  },
  {
   "cell_type": "code",
   "execution_count": 37,
   "metadata": {},
   "outputs": [
    {
     "data": {
      "text/plain": [
       "array([[-3.73324379e-02, -5.35822532e-04, -4.86987457e-02, ...,\n",
       "         4.00168113e-02, -8.07433017e-03, -1.12721235e-01],\n",
       "       [-6.75695837e-02, -3.25633064e-02,  2.85482295e-02, ...,\n",
       "         5.83392121e-02, -2.35455446e-02, -3.87291573e-02],\n",
       "       [ 3.01970523e-02, -1.08652879e-04,  6.92958385e-02, ...,\n",
       "         7.74509087e-02, -9.04722884e-02, -3.32056470e-02],\n",
       "       ...,\n",
       "       [-1.54421963e-02, -7.96079561e-02,  1.47850504e-02, ...,\n",
       "         1.22726150e-02,  2.37942804e-02, -4.95932549e-02],\n",
       "       [ 2.12828666e-02, -7.37964511e-02,  6.02626316e-02, ...,\n",
       "         1.05841152e-01, -3.17206495e-02, -1.08712167e-01],\n",
       "       [-2.20820531e-02, -9.52020194e-03, -4.42247987e-02, ...,\n",
       "         7.34962896e-03, -8.17282591e-03, -8.40815306e-02]], dtype=float32)"
      ]
     },
     "execution_count": 37,
     "metadata": {},
     "output_type": "execute_result"
    }
   ],
   "source": [
    "embeddings"
   ]
  },
  {
   "cell_type": "code",
   "execution_count": 38,
   "metadata": {},
   "outputs": [
    {
     "name": "stdout",
     "output_type": "stream",
     "text": [
      "Survey on Semantic Stereo Matching / Semantic Depth Estimation\n",
      "384\n",
      "\n",
      "FUTURE-AI: Guiding Principles and Consensus Recommendations for Trustworthy Artificial Intelligence in Future Medical Imaging\n",
      "384\n",
      "\n",
      "Enforcing Mutual Consistency of Hard Regions for Semi-supervised Medical Image Segmentation\n",
      "384\n",
      "\n",
      "Parameter Decoupling Strategy for Semi-supervised 3D Left Atrium Segmentation\n",
      "384\n",
      "\n",
      "Background-Foreground Segmentation for Interior Sensing in Automotive Industry\n",
      "384\n",
      "\n",
      "EdgeFlow: Achieving Practical Interactive Segmentation with Edge-Guided Flow\n",
      "384\n",
      "\n"
     ]
    }
   ],
   "source": [
    "c = 0\n",
    "\n",
    "for sentence, embedding in zip(sentences,embeddings):\n",
    "    print(sentence)\n",
    "    print(len(embedding))\n",
    "    print(\"\")\n",
    "    if c >= 5:\n",
    "        break\n",
    "    c += 1"
   ]
  },
  {
   "cell_type": "code",
   "execution_count": 47,
   "metadata": {},
   "outputs": [],
   "source": [
    "import pickle\n",
    "\n",
    "with open(\"models/embeddings.pkl\", 'wb') as f:\n",
    "    pickle.dump(embeddings, f)\n",
    "    \n",
    "with open(\"models/sentences.pkl\", 'wb') as f:\n",
    "    pickle.dump(sentences, f)\n",
    "    \n",
    "with open(\"models/rec_model.pkl\", 'wb') as f:\n",
    "    pickle.dump(model, f)"
   ]
  },
  {
   "cell_type": "code",
   "execution_count": 48,
   "metadata": {},
   "outputs": [],
   "source": [
    "import pickle \n",
    "\n",
    "embeddings = pickle.load(open('models/embeddings.pkl', 'rb'))\n",
    "sentences = pickle.load(open('models/sentences.pkl', 'rb'))\n",
    "rec_model = pickle.load(open('models/rec_model.pkl', 'rb'))"
   ]
  },
  {
   "cell_type": "code",
   "execution_count": 54,
   "metadata": {},
   "outputs": [],
   "source": [
    "import torch\n",
    "\n",
    "def recommendation(input_paper):\n",
    "    cosine_scores = util.cos_sim(embeddings, rec_model.encode(input_paper))\n",
    "\n",
    "    top_similar_papers = torch.topk(cosine_scores, dim=0, k=5, sorted=True)\n",
    "\n",
    "    papers_list = []\n",
    "    for i in top_similar_papers.indices:\n",
    "        papers_list.append(sentences[i.item()])\n",
    "    \n",
    "    return papers_list"
   ]
  },
  {
   "cell_type": "code",
   "execution_count": 55,
   "metadata": {},
   "outputs": [
    {
     "name": "stdout",
     "output_type": "stream",
     "text": [
      "We recommend to read this paper............\n",
      "[-8.65552872e-02 -6.00183122e-02 -1.34928469e-02 -1.21878712e-02\n",
      " -3.28055359e-02  7.94706345e-02  3.08566238e-03 -7.39433393e-02\n",
      " -3.37945111e-02 -4.36708704e-02  1.70474369e-02  2.18700040e-02\n",
      " -1.89715195e-02  5.16035631e-02 -1.37362525e-01  2.15410162e-02\n",
      " -1.01076514e-02  8.70914608e-02 -8.59382600e-02  4.97858264e-02\n",
      " -5.72558828e-02 -1.40037742e-02 -4.67906520e-02 -8.79634451e-03\n",
      "  2.49912422e-02  7.45883137e-02  2.61065364e-03  5.29479757e-02\n",
      " -4.22500372e-02 -1.79642055e-03  7.63382837e-02  1.49575307e-03\n",
      " -6.70372695e-03  2.74171680e-02 -1.02491736e-01  8.21857527e-03\n",
      " -3.69352698e-02  4.28427942e-02  1.54288765e-03  1.52490626e-03\n",
      " -4.24237922e-03 -1.02135278e-02  1.62606034e-02  6.45757169e-02\n",
      "  1.38741955e-01  1.23773385e-02  1.94158684e-02  1.84004176e-02\n",
      "  2.22703745e-03  8.54740366e-02 -1.02953605e-01 -1.11039858e-02\n",
      " -5.02949134e-02 -1.97472200e-02  2.61166282e-02 -9.29428041e-02\n",
      " -1.70518626e-02  1.27816256e-02 -5.10663837e-02  1.20594231e-02\n",
      "  6.99978396e-02 -8.98229778e-02 -3.72668989e-02 -2.62463023e-03\n",
      "  8.24927464e-02  4.74876128e-02 -3.13556530e-02  3.37436907e-02\n",
      "  1.41225103e-03 -1.97767504e-02 -3.89763415e-02  1.68914646e-02\n",
      " -3.78600173e-02 -1.52303427e-02  1.14540765e-02  1.45746144e-02\n",
      "  9.90892425e-02  9.33886186e-05  3.29150036e-02 -3.26230936e-02\n",
      "  3.49973585e-03 -8.96023493e-03  6.87964633e-03 -8.47145543e-03\n",
      "  2.36795954e-02  2.08286382e-02 -1.73131796e-03  9.58076492e-02\n",
      " -3.49437743e-02 -5.79328276e-02  1.68447699e-02 -8.93842336e-03\n",
      "  1.12774605e-02 -8.22338909e-02 -3.76634076e-02 -4.75153029e-02\n",
      "  1.98676735e-02 -9.21092182e-02 -5.99396005e-02  1.17644317e-01\n",
      " -1.62624717e-02 -8.84577725e-03  1.86703391e-02  3.71724926e-02\n",
      "  7.94805586e-03  6.21299781e-02  1.29232276e-02  4.89715450e-02\n",
      "  8.29511955e-02 -1.13775618e-01 -5.73532842e-02 -1.92464981e-02\n",
      " -8.57986212e-02 -6.29940554e-02  4.93087247e-02 -5.06017916e-02\n",
      "  5.58019280e-02 -6.39292458e-03  3.96156497e-02  6.75717667e-02\n",
      " -7.84494132e-02  5.53086866e-03  3.00852302e-03  4.31016274e-02\n",
      " -2.97845039e-03  9.02333204e-03 -1.33625105e-01  4.81616336e-34\n",
      " -6.10296279e-02  2.32008602e-02  1.88210234e-02  2.44772229e-02\n",
      "  3.69996019e-02 -4.33746316e-02  5.61329797e-02 -6.70266375e-02\n",
      "  7.78879449e-02 -3.26619782e-02 -6.04680777e-02  5.51692322e-02\n",
      " -2.55157724e-02  4.13149334e-02  7.38867298e-02 -1.88108590e-02\n",
      "  6.41329139e-02 -2.51436140e-02  1.37842475e-02 -1.14804126e-01\n",
      "  5.89296268e-03 -7.00596049e-02  5.28542399e-02  5.33614168e-03\n",
      " -5.34426756e-02 -1.85148064e-02  7.79787749e-02 -1.66667756e-02\n",
      " -1.94900222e-02 -1.73135789e-03  2.97847055e-02  1.98515076e-02\n",
      " -4.59762178e-02 -1.87948868e-02  3.35540548e-02  7.97143579e-03\n",
      "  3.33659649e-02  4.00139876e-02  1.53744891e-01 -7.81026557e-02\n",
      " -3.18880975e-02 -6.97536813e-03  7.48458728e-02 -7.75121525e-03\n",
      " -4.82293144e-02  5.42277796e-03 -1.93488188e-02  3.28134373e-02\n",
      " -2.13349778e-02 -1.84804834e-02 -7.02364184e-03 -5.79377217e-03\n",
      " -5.30983731e-02  2.87092831e-02  6.25555441e-02  5.91083337e-03\n",
      "  9.85367037e-03  2.26007290e-02 -1.61276367e-02  4.18177014e-03\n",
      "  9.81241241e-02 -2.33294629e-02  2.69430410e-03 -3.52713130e-02\n",
      " -3.56058218e-02  4.10313681e-02 -1.99740827e-02 -2.68278737e-03\n",
      "  6.21853210e-02  5.81881516e-02  1.38681277e-03  2.47991621e-03\n",
      "  8.54562744e-02 -3.66676487e-02 -6.08859118e-03  4.65864912e-02\n",
      " -4.17680629e-02 -2.22300664e-02 -4.38697785e-02  4.41693701e-02\n",
      " -5.31821884e-02  9.25257355e-02 -6.36342317e-02 -3.67776677e-02\n",
      " -9.60233659e-02 -1.88986771e-02  1.20737348e-02 -5.79549521e-02\n",
      "  4.17602956e-02  2.11030338e-03 -8.57870057e-02  9.50305723e-03\n",
      "  7.00426921e-02  1.23286145e-02 -7.08060637e-02  1.18154907e-34\n",
      " -5.26857488e-02  1.27147108e-01 -8.42692479e-02  3.87497880e-02\n",
      " -1.91870574e-02  1.46766901e-02 -4.24765088e-02  2.49268357e-02\n",
      "  1.30100409e-03  9.54282209e-02  1.08769285e-02  2.75685620e-02\n",
      " -1.02810711e-02 -1.50154373e-02  3.43955755e-02  2.12367158e-02\n",
      "  1.61319610e-03 -3.03701479e-02  7.35777020e-02 -2.84485221e-02\n",
      " -5.91894835e-02  6.15629070e-02 -1.81101263e-02  8.16422794e-03\n",
      " -4.22043689e-02 -1.55338673e-02 -1.21400943e-02  4.79880311e-02\n",
      " -5.36445379e-02 -2.70540267e-03 -4.77753840e-02 -8.40606317e-02\n",
      " -4.96426560e-02  1.21632963e-01  6.53065518e-02  6.06303364e-02\n",
      " -1.60086516e-03 -1.34525355e-02  7.97948218e-04  3.71967182e-02\n",
      " -3.53271374e-03 -6.87013729e-04 -5.98389134e-02  4.05332409e-02\n",
      " -4.23222594e-02 -6.46232963e-02 -2.48896098e-03  6.34479821e-02\n",
      " -2.90712584e-02  1.27053158e-02 -3.61042768e-02  1.28077092e-02\n",
      " -2.47595161e-02 -6.15951084e-02 -4.01032865e-02  7.15042055e-02\n",
      "  3.92800197e-02  2.18567178e-02  7.71504343e-02  2.45639943e-02\n",
      " -6.63758367e-02 -8.03923532e-02 -4.31918651e-02 -1.05497064e-02\n",
      " -3.09188738e-02 -2.08670273e-02 -2.19731443e-02  4.31867689e-02\n",
      "  6.61097467e-02 -1.60092525e-02  1.33597851e-02  3.00271194e-02\n",
      "  5.26426099e-02  2.10782215e-02 -2.39978246e-02 -9.61690843e-02\n",
      " -8.65223110e-02 -1.45507613e-02 -2.02801395e-02 -6.16252311e-02\n",
      " -3.10469661e-02 -3.63040790e-02  3.71006727e-02  1.19414516e-01\n",
      "  1.04274079e-01  1.09332941e-01  7.98967928e-02 -4.50050272e-02\n",
      "  4.93107103e-02 -3.51733044e-02  7.88414031e-02  7.28471726e-02\n",
      "  6.18100837e-02  1.14317471e-02 -9.97319892e-02 -1.32006397e-08\n",
      " -1.03196338e-01 -7.05398526e-03  4.81008403e-02 -4.29428443e-02\n",
      "  5.44448793e-02 -5.48970960e-02  1.82993021e-02  9.40097403e-03\n",
      " -3.19002755e-02  2.87052840e-02  5.99639602e-02 -3.82652730e-02\n",
      " -2.76777949e-02  1.00101149e-02 -2.88619101e-02 -2.36501787e-02\n",
      " -1.23731690e-02  1.70297585e-02  2.30031852e-02 -4.90800068e-02\n",
      "  6.59225211e-02  5.97690977e-02 -1.49580929e-02  1.13409907e-01\n",
      "  5.24757095e-02 -9.53214429e-03 -4.92479056e-02  8.89297128e-02\n",
      "  7.11305141e-02  1.01861261e-01  2.38607600e-02  1.51315369e-02\n",
      "  7.48876631e-02 -5.21286614e-02  8.21251422e-02  6.24802783e-02\n",
      "  8.15718397e-02 -2.13398132e-02 -4.48289663e-02 -1.67372951e-03\n",
      " -6.23587929e-02 -3.67312552e-03 -3.01752593e-02 -2.48263683e-02\n",
      "  1.67646427e-02 -8.76734219e-03  8.53610318e-03 -1.09545566e-01\n",
      "  1.75606422e-02 -6.72673732e-02  9.06906649e-02  5.09773344e-02\n",
      "  3.69412405e-03  5.48539348e-02  1.42276371e-02 -5.09363748e-02\n",
      "  4.05517779e-02 -5.49372658e-02 -1.39384866e-02  8.73138234e-02\n",
      " -6.99126069e-03  9.64993238e-02  3.20699858e-03 -5.22809625e-02]\n",
      "[-8.02994892e-02 -4.75321002e-02  4.33811825e-03  2.19310597e-02\n",
      "  1.07752960e-02  9.89061892e-02  6.16941601e-02 -9.72000789e-03\n",
      " -5.70578128e-02 -1.19204551e-01  5.31556457e-02 -1.19580301e-02\n",
      "  6.04838133e-03 -9.54303890e-03 -3.00232228e-02  3.48858126e-02\n",
      "  5.93075380e-02  1.36109829e-01 -1.08228117e-01 -5.09336218e-02\n",
      " -4.11451831e-02  2.82381643e-02  2.40791440e-02 -2.31103115e-02\n",
      " -1.28354682e-02  4.12920713e-02  2.43212674e-02  3.45756039e-02\n",
      " -7.75032328e-04 -5.82891814e-02  5.81007190e-02  1.36920083e-02\n",
      " -5.42357471e-03  4.62606438e-02 -4.77497280e-02  3.23313959e-02\n",
      " -8.23620558e-02 -2.53767241e-02 -3.77274211e-03 -8.13716501e-02\n",
      " -3.94500792e-03 -2.79959552e-02  2.32598539e-02 -7.78040942e-03\n",
      "  6.38631582e-02 -6.95042172e-03  6.87487284e-03  5.53497039e-02\n",
      " -9.08288080e-03  5.93874864e-02 -6.95025474e-02 -5.35971820e-02\n",
      " -7.44121820e-02  3.40815522e-02  4.81748134e-02  6.40326366e-03\n",
      " -3.11956014e-02 -3.09381131e-02 -4.60933372e-02 -2.27443893e-02\n",
      "  1.72758941e-02 -2.47155279e-02 -6.98403046e-02 -4.07270044e-02\n",
      "  5.05851805e-02  5.47349267e-02  1.02594215e-02  1.33946314e-02\n",
      "  3.44455987e-02 -1.77697819e-02 -1.54741919e-02  1.47958333e-02\n",
      " -5.01026697e-02  2.77325902e-02  2.37880033e-02 -4.52837385e-02\n",
      "  5.15680499e-02 -1.87419467e-02  5.90822995e-02 -7.56409988e-02\n",
      " -5.75619703e-03 -1.33266766e-02  9.61290859e-03  1.53093450e-02\n",
      "  2.71317773e-02 -2.94671003e-02 -1.49793820e-02  1.12893619e-01\n",
      " -1.52321644e-02 -3.16555612e-02  2.93887090e-02 -3.17337103e-02\n",
      "  4.16116826e-02 -5.54837240e-03 -1.70444734e-02 -1.12941889e-02\n",
      "  1.38335759e-02 -7.89453909e-02 -4.64687385e-02  1.06127501e-01\n",
      "  1.03366785e-02  1.33379293e-03  6.82340795e-03  2.06663888e-02\n",
      "  4.26954925e-02  1.39696011e-02  4.68256101e-02  5.62930778e-02\n",
      "  5.79662584e-02 -6.68672621e-02 -4.80794609e-02 -4.46840972e-02\n",
      " -4.22879532e-02 -6.65745586e-02  1.43846152e-02 -9.45715010e-02\n",
      "  4.80510928e-02  4.55479436e-02  6.32411276e-04  9.67702568e-02\n",
      " -3.30188759e-02  5.66411875e-02 -2.76770536e-02  2.09295657e-02\n",
      "  1.48142558e-02 -3.12080476e-02 -1.22638576e-01 -1.29986154e-34\n",
      " -2.53108405e-02 -2.38868538e-02  1.64711731e-03  1.04505993e-01\n",
      "  4.88018990e-02 -4.11858968e-03  5.28151281e-02 -2.90390775e-02\n",
      "  2.97603048e-02 -2.75932588e-02 -1.18334658e-01  5.68586066e-02\n",
      " -6.74181506e-02  6.49404377e-02  1.25863284e-01 -2.63345167e-02\n",
      "  2.95471847e-02 -3.20481174e-02  4.30796370e-02 -3.38843726e-02\n",
      " -4.93028527e-03 -9.93660558e-03  7.79481530e-02  2.29494721e-02\n",
      "  2.21068114e-02  1.66240975e-03  5.82003631e-02 -2.37853769e-02\n",
      " -7.03809857e-02  2.46506538e-02 -3.53017971e-02  3.62883210e-02\n",
      " -3.40915620e-02  2.33028620e-03  1.03826106e-01  2.15162430e-02\n",
      "  3.35011743e-02  9.37984884e-03  3.99946086e-02 -4.23613153e-02\n",
      " -6.26359060e-02  4.15817946e-02 -8.53944477e-03 -3.93643230e-03\n",
      " -6.71384707e-02  5.23014106e-02  3.21424827e-02  7.08787516e-02\n",
      "  1.97559576e-02  2.03942023e-02 -1.72190997e-03  2.75051128e-02\n",
      " -2.18391437e-02 -1.14651695e-02  1.19047360e-02  6.70037558e-03\n",
      "  2.40237154e-02  8.86326656e-02  3.46148424e-02  6.88446546e-03\n",
      " -3.95584106e-03  7.95256533e-03  2.16009538e-03 -5.18060895e-03\n",
      " -2.54119802e-02  5.27471378e-02 -6.99227303e-02 -2.87911426e-02\n",
      "  8.21921825e-02  2.73727439e-02 -2.07823720e-02  6.32564873e-02\n",
      "  2.67995819e-02 -2.02688836e-02 -2.28094738e-02  5.02521321e-02\n",
      " -4.80200537e-02 -8.02700669e-02 -8.17895904e-02  3.89260799e-02\n",
      " -3.83210666e-02  1.19846568e-01 -3.75377499e-02 -2.35596262e-02\n",
      " -5.81837632e-02 -5.62173612e-02  2.21180674e-02  1.46095445e-02\n",
      "  9.73453280e-03 -4.89727361e-04 -9.83828604e-02  2.40746904e-02\n",
      "  1.08727984e-01  6.74323086e-03 -6.14299215e-02  3.70594522e-34\n",
      " -6.52300119e-02  1.06867425e-01 -6.12000674e-02  8.28915387e-02\n",
      "  1.27344131e-02 -2.11014459e-03 -5.56236207e-02  4.62389067e-02\n",
      "  2.46418212e-02  1.48506403e-01  1.39897009e-02  7.19626918e-02\n",
      "  9.92794335e-03 -1.33362664e-02  2.99563073e-02  7.69354850e-02\n",
      " -3.12371347e-02 -2.85011064e-02  6.04288578e-02 -5.56322746e-02\n",
      " -1.10241011e-01  1.19782120e-01 -3.99466120e-02 -3.43583375e-02\n",
      " -9.09299105e-02  3.08586806e-02 -7.81760141e-02  2.90925503e-02\n",
      " -3.63017172e-02 -4.02218336e-03 -2.04526167e-02 -7.31535405e-02\n",
      " -9.35129076e-03  8.52983594e-02  2.03432981e-02  4.07037809e-02\n",
      "  4.67447527e-02  1.86314583e-02  1.49253970e-02  1.42100384e-03\n",
      "  5.08276373e-02  6.46504341e-03 -7.98543096e-02  7.11925980e-03\n",
      " -1.52072590e-02 -1.25901252e-01  2.60898694e-02  2.07399782e-02\n",
      " -2.39659064e-02  4.83526178e-02 -6.72310144e-02 -4.96832281e-02\n",
      " -4.45977412e-02 -8.00140873e-02 -3.42075713e-02  1.58098515e-03\n",
      "  8.09775293e-02 -5.55814104e-03  1.19240940e-01 -1.17376624e-02\n",
      " -2.46815905e-02 -6.74936399e-02  8.54502898e-03  2.26406623e-02\n",
      " -3.91686149e-02 -1.97358821e-02 -1.66006442e-02 -2.89957356e-02\n",
      "  9.67345536e-02 -4.57767174e-02  4.13669273e-02  4.58103046e-02\n",
      "  2.00272463e-02  8.55599903e-03 -6.29000217e-02 -2.52147336e-02\n",
      " -7.83419460e-02  5.50205298e-02  4.33645621e-02 -5.67168780e-02\n",
      " -4.81476858e-02 -7.87731111e-02  2.94059813e-02  9.58851129e-02\n",
      "  6.45111054e-02  3.82295176e-02  8.35592672e-02  4.75624315e-02\n",
      "  6.01148307e-02 -5.18500153e-03  2.58119702e-02  5.33166155e-02\n",
      "  6.52219653e-02  1.09186415e-02 -3.58991139e-02 -1.26800144e-08\n",
      " -5.68457991e-02 -3.24526466e-02 -4.16824110e-02  5.94304292e-05\n",
      "  7.32268319e-02 -6.67760000e-02  9.65113938e-03  3.02956682e-02\n",
      " -3.71742025e-02  4.35891785e-02  1.19086996e-01  2.04355642e-03\n",
      " -7.10100010e-02  4.62768646e-03 -2.13994794e-02  2.49111634e-02\n",
      " -1.13082342e-02  1.73637979e-02 -9.94324218e-03 -5.22037260e-02\n",
      "  6.79069608e-02  3.57332379e-02  1.48219401e-02  1.29312381e-01\n",
      "  2.93193087e-02 -4.99316938e-02 -2.77821757e-02  1.01866588e-01\n",
      "  2.70925034e-02  5.18341810e-02 -5.39136901e-02  1.13065038e-02\n",
      "  8.92553478e-03 -6.41307980e-02  3.89165059e-02  4.44643423e-02\n",
      "  7.64310881e-02 -6.49854392e-02 -2.56909057e-02  3.24026234e-02\n",
      " -6.34207949e-02 -3.90059836e-02 -5.31413592e-02 -4.82802354e-02\n",
      "  3.10366731e-02 -5.16447127e-02  4.49389294e-02 -1.48504853e-01\n",
      " -2.11888272e-02 -6.38558567e-02  2.13717818e-02  1.80217680e-02\n",
      " -2.63740160e-02  2.35408428e-03  5.77287562e-03 -4.26180568e-03\n",
      "  5.09627685e-02 -4.08019312e-02 -5.29761501e-02  3.34363133e-02\n",
      " -7.12528005e-02  8.42688009e-02  1.14662517e-02 -9.85297784e-02]\n",
      "[-7.37917200e-02 -7.45169297e-02  1.77928898e-02 -6.27643988e-02\n",
      " -7.28110597e-02  4.55861054e-02  9.09117516e-03 -5.71019724e-02\n",
      " -1.13420887e-02 -2.47794334e-02  4.42961715e-02  6.78063259e-02\n",
      "  2.11319029e-02 -1.55980242e-02 -7.79730603e-02 -1.30093405e-02\n",
      " -3.21858265e-02  5.15443161e-02 -3.11353579e-02 -1.67275742e-02\n",
      " -1.89243201e-02  1.80915706e-02 -4.95094433e-02 -4.51836139e-02\n",
      " -3.42882164e-02  4.86718677e-02  3.16035151e-02  8.50602388e-02\n",
      "  3.86536121e-02 -6.12214692e-02  8.27517211e-02 -5.62120453e-02\n",
      "  6.62608743e-02  4.49880622e-02 -1.17316552e-01 -7.65001029e-03\n",
      " -1.43584225e-03 -2.07231194e-03 -7.60761043e-03  8.43252540e-02\n",
      " -1.03194257e-02 -5.51473675e-03  1.51514998e-02 -2.23761499e-02\n",
      "  1.35621935e-01  5.56585751e-02 -1.33692112e-03  3.43139768e-02\n",
      "  3.86052653e-02 -5.47505207e-02 -1.87730547e-02 -1.29841967e-02\n",
      " -1.65251829e-02 -3.99389584e-03  6.36342615e-02  8.14596415e-02\n",
      " -1.37777571e-02  2.58938726e-02 -8.55406076e-02 -2.11461596e-02\n",
      "  3.49061079e-02 -5.03741615e-02 -2.26128865e-02 -8.32996273e-04\n",
      "  1.50852934e-01  5.75816706e-02  5.55197755e-03 -1.22797629e-02\n",
      "  4.36977074e-02  4.82595526e-03 -1.43448068e-02  1.53760584e-02\n",
      "  4.11908776e-02  4.26072218e-02 -7.21204048e-03  3.50192711e-02\n",
      "  5.90206832e-02  5.43759055e-02  7.13074431e-02 -2.23511979e-02\n",
      " -2.92882733e-02 -6.20458983e-02  2.31739338e-02  2.47736163e-02\n",
      " -3.37882228e-02  7.93066807e-03 -5.81916720e-02  9.20940749e-03\n",
      "  2.64978758e-03 -4.08173576e-02  1.91757102e-02  1.30890198e-02\n",
      " -9.84822866e-04 -5.14878221e-02  3.65384147e-02  2.44450960e-02\n",
      " -2.32000593e-02 -9.80385616e-02 -6.36974201e-02  8.46624672e-02\n",
      " -2.05218643e-02 -4.01492864e-02  1.05214724e-03  1.49889709e-02\n",
      "  5.10241501e-02 -1.32461553e-02  9.47516635e-02  3.57697569e-02\n",
      "  1.17940158e-01 -9.50830057e-02 -4.33327071e-02 -3.18176337e-02\n",
      " -4.72170450e-02 -6.14015348e-02  4.63152565e-02 -7.98783079e-02\n",
      "  3.76709104e-02 -1.23780183e-02  6.56072572e-02  1.04928121e-03\n",
      " -3.90541814e-02 -2.86997464e-02 -4.74116504e-02  1.16130393e-02\n",
      "  2.22250819e-03 -1.61469150e-02 -8.76727551e-02 -3.01535423e-33\n",
      " -7.31985420e-02  2.53044665e-02  3.14068347e-02 -5.50883338e-02\n",
      " -2.28102598e-02 -7.61884497e-03  3.54994684e-02 -3.41392197e-02\n",
      "  4.12323028e-02  3.22469510e-02 -9.97405648e-02  4.25738022e-02\n",
      " -3.71778496e-02  3.20462324e-02  5.89069501e-02 -7.57221179e-03\n",
      "  2.51419144e-03 -6.29242286e-02  1.61684607e-03 -9.08956453e-02\n",
      " -8.78972281e-03 -3.08874119e-02  9.61002111e-02 -8.00292119e-02\n",
      " -2.75311880e-02 -1.68611556e-02  1.97947305e-02 -1.62954896e-03\n",
      " -7.87791535e-02 -1.08090136e-02 -1.61744701e-03  3.80196199e-02\n",
      " -1.19747914e-01 -5.02587222e-02 -1.65717844e-02 -2.46907827e-02\n",
      "  8.68233666e-03  2.03627069e-02  6.23149984e-02 -3.74046788e-02\n",
      " -4.49835882e-02  2.90585551e-02  2.70336941e-02 -3.32745686e-02\n",
      " -1.00917993e-02  1.97106618e-02  1.86381559e-03  5.64894043e-02\n",
      "  4.91398796e-02  7.48784188e-03 -5.70249371e-02  2.57040244e-02\n",
      "  1.33045437e-02 -4.60251421e-02  5.31109981e-02  1.35931829e-02\n",
      "  2.85062892e-03  1.00654617e-01 -2.64181867e-02  2.71380041e-02\n",
      "  1.10437162e-02  2.92298710e-03  4.75095445e-03  4.45633382e-02\n",
      " -1.99085250e-02  3.94625366e-02 -4.94997501e-02 -2.33613830e-02\n",
      "  5.55037409e-02 -4.31612693e-02  9.15714726e-03  7.38761723e-02\n",
      "  2.48392597e-02 -5.96549623e-02 -1.48406753e-03  7.22436383e-02\n",
      "  4.26166831e-03 -6.00137599e-02 -3.64081375e-02  3.42905968e-02\n",
      " -7.61180073e-02  6.21006005e-02  3.03062168e-03 -1.73774641e-02\n",
      " -2.21721511e-02  4.66203764e-02  6.97137415e-02 -1.27940672e-02\n",
      "  1.95900090e-02 -2.08035782e-02 -6.20917082e-02  2.06619781e-02\n",
      "  7.12257624e-02  3.85696115e-03  2.41295509e-02  1.27634075e-33\n",
      " -6.18856288e-02  8.40243921e-02 -3.54560427e-02 -1.55990172e-04\n",
      "  4.67391685e-02  3.55385244e-02 -6.58240616e-02 -3.88555299e-03\n",
      " -6.19626753e-02  1.33607104e-01  7.84541219e-02  2.38632020e-02\n",
      "  2.31571076e-03 -6.07410595e-02  3.33028845e-02  2.00916715e-02\n",
      " -2.06066649e-02 -6.88312054e-02  9.21531543e-02 -1.58365015e-02\n",
      " -1.30169680e-02  6.10225983e-02 -1.34064525e-01  4.57944572e-02\n",
      " -3.45211551e-02 -2.05349196e-02 -2.25057323e-02  5.58044352e-02\n",
      " -4.22760397e-02 -6.09424373e-04 -5.10078222e-02 -5.66667020e-02\n",
      "  2.68418323e-02  8.12279806e-02  9.63037461e-03  1.09199062e-02\n",
      "  8.07963591e-03 -8.81546643e-03  1.69509053e-02  9.16342512e-02\n",
      "  1.39560029e-02  1.10414913e-02 -4.03679982e-02 -2.34236866e-02\n",
      "  4.81028482e-02 -1.40934110e-01 -4.98517789e-03  5.91272116e-02\n",
      " -8.59652981e-02  2.71566045e-02  1.98174939e-02 -4.61292341e-02\n",
      " -1.43608181e-02 -6.90871850e-02 -2.45060601e-05  6.45067617e-02\n",
      "  3.20734903e-02  1.13945687e-02  7.94206113e-02  1.72607359e-02\n",
      " -4.96186316e-03 -8.29605833e-02 -4.14856225e-02  5.16962297e-02\n",
      " -4.14103419e-02 -3.52977571e-04  3.41630587e-03  1.15822479e-01\n",
      "  7.43141100e-02 -4.68442887e-02 -8.73320177e-03  9.34384093e-02\n",
      "  8.70806351e-02  4.40994613e-02 -5.08846864e-02 -1.19137451e-01\n",
      " -2.72673629e-02 -1.96431056e-02 -1.83377527e-02 -5.02505116e-02\n",
      " -3.99102457e-02  3.61015991e-04  1.12492731e-02  7.68000782e-02\n",
      "  9.00596008e-02  1.13017246e-01  5.44220433e-02 -1.14498913e-01\n",
      "  7.32454285e-02  2.13492997e-02 -1.38557265e-02  1.34329915e-01\n",
      "  3.11180875e-02  1.27429850e-02 -1.22495294e-01 -1.57337610e-08\n",
      " -9.25642028e-02 -5.89317903e-02  4.46215048e-02  6.10269792e-02\n",
      "  7.03632832e-02 -2.98474878e-02  5.96368313e-02 -8.09334964e-02\n",
      " -7.29805753e-02 -6.65571913e-02  1.92174315e-02 -2.45174579e-03\n",
      " -3.61715332e-02  1.96794737e-02  2.31601577e-02 -6.66231886e-02\n",
      "  2.70331334e-02 -7.99307786e-03 -2.47483943e-02  1.69766992e-02\n",
      "  5.19386567e-02  6.72956370e-03 -1.22426385e-02  1.55833727e-02\n",
      "  1.01843528e-01 -4.25682813e-02 -6.86538592e-02  2.70679705e-02\n",
      "  1.62741672e-02  9.88735408e-02  2.32969653e-02  3.25212181e-02\n",
      "  2.14611404e-02 -7.73642678e-03  5.05092405e-02  2.47688144e-02\n",
      "  5.46722040e-02 -1.49153043e-02 -8.46913755e-02 -4.99736629e-02\n",
      " -4.02818359e-02  6.10706676e-03 -1.91805493e-02  3.52282403e-03\n",
      "  2.72622686e-02 -2.92303711e-02 -3.31493630e-03 -1.39805734e-01\n",
      "  2.36699041e-02 -3.61318104e-02  3.82348970e-02  1.79976318e-02\n",
      " -1.48336748e-02  2.09013801e-02  4.70403731e-02 -5.76921143e-02\n",
      "  1.42663326e-02 -6.68683648e-02 -1.05894960e-01  3.83495614e-02\n",
      "  6.14282675e-03  8.84794965e-02  7.62218470e-03 -4.77013364e-02]\n",
      "[-8.62988308e-02 -1.16960317e-01  3.88598666e-02 -5.43013625e-02\n",
      "  2.28626132e-02  1.01276517e-01 -4.50694710e-02 -4.32296656e-02\n",
      " -1.86967757e-02 -9.99882594e-02 -6.07229024e-03  6.91999169e-03\n",
      "  4.47661243e-02  2.14388035e-02 -1.22906946e-01  4.60693799e-03\n",
      "  3.63156907e-02  7.74493590e-02 -1.23025067e-01 -1.99889094e-02\n",
      " -6.70431033e-02  2.30139531e-02  1.17635233e-02 -2.70918813e-02\n",
      "  5.74737675e-02  2.37653628e-02  7.59249702e-02  8.12826492e-03\n",
      " -8.96429736e-03  1.50175411e-02  6.09132312e-02 -1.08424397e-02\n",
      " -3.70679274e-02  3.35565880e-02 -5.96663356e-02  4.18520682e-02\n",
      " -5.04781418e-02  9.01687816e-02 -4.58894558e-02  4.36097123e-02\n",
      "  6.29379647e-03 -3.16731515e-03  3.18310708e-02  7.90083967e-03\n",
      "  7.01712891e-02  4.95998152e-02 -3.46457325e-02  3.41322683e-02\n",
      " -2.19532680e-02  1.48620764e-02 -9.38760042e-02 -1.89434290e-02\n",
      " -9.43862721e-02  2.12004110e-02  3.94738838e-02  9.00005270e-03\n",
      "  1.67164728e-02 -2.43894886e-02 -8.40923116e-02  3.93818505e-02\n",
      "  9.32900310e-02 -6.61738366e-02 -1.52566452e-02 -4.04861905e-02\n",
      "  6.43384308e-02  1.22355772e-02  1.48250852e-02  2.36312263e-02\n",
      " -1.56398416e-02 -4.90504317e-02  4.05812636e-02  1.56149990e-03\n",
      " -4.39911671e-02  5.93676157e-02  6.11151457e-02  3.56592052e-02\n",
      "  1.32112473e-01  2.02613673e-03  1.69135779e-02 -1.09892219e-01\n",
      " -3.30791287e-02 -5.07660285e-02  2.45863199e-02  2.83149350e-02\n",
      "  5.26107401e-02 -4.05858681e-02  2.47931350e-02  1.99981201e-02\n",
      "  2.49660835e-02 -3.36532556e-02 -1.17773768e-02 -2.15391070e-02\n",
      " -2.47201771e-02 -8.80219638e-02 -1.73826795e-02 -3.26711237e-02\n",
      "  5.69789447e-02 -8.05420354e-02 -7.15177357e-02  8.74850303e-02\n",
      " -3.50312255e-02 -8.90403404e-04 -2.87540797e-02 -3.34292203e-02\n",
      "  9.05541554e-02  7.70170689e-02  4.87454720e-02  3.21348272e-02\n",
      "  9.19254795e-02 -1.06161848e-01  2.37563793e-02 -6.47028908e-02\n",
      " -1.24155529e-01 -3.30605283e-02  2.50063855e-02 -1.34833321e-01\n",
      "  7.19183236e-02 -2.21313015e-02 -9.62902233e-03  2.21710606e-03\n",
      " -1.23142906e-01  2.14931928e-02 -8.63154083e-02  6.69691293e-03\n",
      "  2.97197197e-02  1.09443571e-02 -5.19049168e-02  5.19083497e-35\n",
      "  7.01218471e-02  2.32943892e-02  7.05501810e-03 -8.61199275e-02\n",
      "  1.39130391e-02 -3.58927436e-02  5.30480128e-03 -3.52522992e-02\n",
      "  5.12938686e-02 -1.57533772e-02 -9.00269598e-02  3.49612460e-02\n",
      " -1.43176306e-03 -1.64500717e-02  9.16567910e-03 -2.68257372e-02\n",
      "  4.85428162e-02 -3.42980549e-02 -2.75616106e-02  1.39456838e-02\n",
      "  1.01471869e-02 -8.00439417e-02  4.50205393e-02  5.51950128e-04\n",
      " -7.16362000e-02 -7.82180019e-03  3.17250937e-02 -4.92662564e-02\n",
      "  4.99311909e-02 -7.29240151e-03 -3.54577340e-02  2.12725601e-03\n",
      " -1.57694966e-02 -1.61095783e-02  5.70219010e-02  3.88967507e-02\n",
      "  1.22466758e-02  2.47981921e-02  9.81620103e-02 -5.49977571e-02\n",
      "  1.73648596e-02 -6.03328645e-03  3.00553329e-02 -4.91260327e-02\n",
      " -4.19728551e-03  3.68884541e-02 -2.44305320e-02  4.91158403e-02\n",
      " -9.32516158e-03 -4.28773537e-02 -1.83765497e-02 -1.92584340e-02\n",
      " -7.73315206e-02 -1.65382512e-02  9.80465021e-03 -5.39460182e-02\n",
      "  2.79151835e-02  2.56285314e-02  3.19164246e-02  1.33432448e-02\n",
      "  1.05664127e-01  1.10232783e-02  2.36199722e-02 -5.12741506e-02\n",
      " -4.19844501e-03 -3.97687815e-02 -1.22398017e-02 -3.40138599e-02\n",
      "  7.10855275e-02  3.48110450e-03 -9.00211185e-03  9.76476669e-02\n",
      "  4.59965803e-02 -1.40033700e-02  3.72709706e-02  6.71874434e-02\n",
      " -4.84112129e-02 -6.21838197e-02 -1.11240409e-02 -2.13687960e-02\n",
      " -5.05917519e-02  4.44150940e-02 -6.63675442e-02 -6.30276576e-02\n",
      " -4.03966270e-02  9.00400989e-03 -6.61479589e-03 -4.16055508e-02\n",
      "  1.63443405e-02  6.96577481e-04 -6.47111088e-02 -6.71189930e-03\n",
      "  2.75037475e-02 -4.28245328e-02 -7.55161569e-02 -9.32210499e-36\n",
      " -3.52173261e-02  7.03132749e-02  1.03007779e-02  6.73095882e-02\n",
      "  1.01928171e-02  1.74612496e-02 -6.04682527e-02  5.14456816e-02\n",
      " -6.11511804e-02  6.69087395e-02  2.93450896e-03  6.19849004e-03\n",
      "  7.62612596e-02 -9.65292454e-02  5.12107685e-02  9.60018039e-02\n",
      "  3.16112600e-02 -3.14236805e-02  6.14720657e-02  1.04246987e-02\n",
      "  8.67185183e-03  5.04648834e-02 -5.82099110e-02  6.61545321e-02\n",
      " -8.71044993e-02 -1.10235708e-02  7.62245292e-03  7.62466639e-02\n",
      " -8.49308148e-02 -2.88875327e-02 -2.38451660e-02 -6.61721826e-02\n",
      " -3.05703543e-02  2.34827437e-02  4.47781608e-02  5.63836023e-02\n",
      "  6.71664327e-02 -6.86035380e-02 -3.04524731e-02  2.38507241e-02\n",
      " -1.18549578e-04  2.42212601e-03 -3.82593460e-02  2.51341444e-02\n",
      " -6.64078295e-02 -5.94041087e-02 -4.39154245e-02  7.91155249e-02\n",
      " -5.87699600e-02  2.96604224e-02  1.46227452e-04  2.15473846e-02\n",
      " -3.62866111e-02 -1.35906702e-02 -3.81472113e-04  7.26842508e-02\n",
      "  5.36887860e-03  2.27230527e-02  1.19259350e-01  2.50615068e-02\n",
      " -1.33839687e-02 -1.07406862e-01 -1.53429331e-02  2.57793702e-02\n",
      " -4.73733917e-02  8.50296393e-03 -1.07909078e-02  1.01466022e-01\n",
      "  7.28701577e-02  1.69363595e-03  2.92011164e-02  5.37691675e-02\n",
      "  9.11015496e-02 -1.52937621e-02 -8.39121491e-02 -6.70590252e-02\n",
      "  4.63448390e-02 -4.06232942e-03  1.08047659e-02 -6.63173525e-03\n",
      "  1.18228060e-03 -1.69738792e-02  3.84109914e-02  7.69354776e-02\n",
      "  1.03723891e-01  1.36460364e-01  1.44242644e-01 -2.83073913e-02\n",
      "  9.02737603e-02 -9.68322065e-03 -8.98217689e-03  8.69707987e-02\n",
      "  2.61176471e-02 -5.13710976e-02 -3.35910134e-02 -1.27816353e-08\n",
      " -8.43441561e-02 -9.56746191e-03  2.90166400e-02  1.66475326e-02\n",
      "  2.75150090e-02 -6.83364719e-02  5.33453897e-02  2.73941532e-02\n",
      " -5.78470007e-02  1.81699488e-02  6.00518622e-02 -1.28698675e-02\n",
      " -1.61856655e-02  3.32407691e-02  1.60332129e-03 -1.44746751e-02\n",
      "  2.02572569e-02 -8.82690493e-03  2.25977059e-02  6.95591494e-02\n",
      " -3.72122112e-03  6.76756352e-02  3.35072540e-02  3.66588533e-02\n",
      "  9.02047232e-02 -4.97901207e-03 -2.16097739e-02  4.97775339e-02\n",
      "  9.12257433e-02  3.15689147e-02  1.35006174e-03  3.58337313e-02\n",
      "  2.49755327e-02 -7.33442083e-02  3.44385467e-02  3.07677314e-02\n",
      "  5.72567508e-02  3.04022841e-02 -6.44329265e-02 -4.40733023e-02\n",
      " -4.63956445e-02 -4.11317274e-02 -5.78186028e-02  3.44960694e-03\n",
      "  2.87048612e-02 -1.27322907e-02  7.34615624e-02 -1.46444812e-01\n",
      "  2.03251815e-03 -2.44712140e-02  4.63762693e-03 -1.72878325e-04\n",
      " -1.07143810e-02  1.29870949e-02  3.86338905e-02 -2.98318011e-03\n",
      " -4.40443456e-02 -8.54786932e-02  8.38863757e-03  3.19191106e-02\n",
      " -5.43298274e-02  6.79770112e-02  2.26952974e-02 -3.72387953e-02]\n",
      "[-4.24446911e-02 -6.57841116e-02  2.39658318e-02 -3.91265489e-02\n",
      " -2.41736583e-02  5.97979277e-02 -2.04314291e-02 -2.94974893e-02\n",
      " -2.08982527e-02 -9.33075249e-02 -7.24858511e-03 -8.17450136e-03\n",
      " -2.04539075e-02 -2.88367961e-02 -7.30350837e-02  8.42810273e-02\n",
      " -8.31781980e-03  7.37576410e-02 -7.25552365e-02 -3.13134566e-02\n",
      " -3.72937992e-02  5.48466062e-03  4.06951644e-03 -4.32882123e-02\n",
      " -2.98161823e-02  5.64757101e-02  1.69448331e-02 -8.54195934e-03\n",
      "  6.13014307e-03  2.10600672e-03  1.52409509e-01 -3.99254262e-02\n",
      "  8.60189728e-04  5.76111414e-02 -2.81760227e-02  2.02251486e-02\n",
      "  2.19320226e-03 -2.31986716e-02  2.23551635e-02  2.08779369e-02\n",
      "  4.63504195e-02  3.04855164e-02  4.67285141e-02  3.41888182e-02\n",
      "  1.03319757e-01 -1.34404078e-02  3.85631248e-02  3.11736893e-02\n",
      "  3.55512537e-02 -7.69899320e-03 -7.51837417e-02 -2.57629864e-02\n",
      " -5.87485684e-03 -9.98797454e-03 -1.81519482e-02  5.95349558e-02\n",
      " -1.43676186e-02  3.41901034e-02 -1.55835822e-01 -4.89065284e-03\n",
      "  1.69317406e-02 -1.47007070e-02 -5.07192221e-03 -7.78416870e-03\n",
      "  2.39863116e-02  4.38993908e-02 -2.86700465e-02  1.72272250e-02\n",
      "  7.14301020e-02  8.33624974e-03  4.72791530e-02  4.12007309e-02\n",
      "  1.23051899e-02  2.43052188e-02 -3.35541442e-02 -1.74476020e-03\n",
      "  8.87265578e-02  4.63512279e-02  1.04300968e-01 -8.64410326e-02\n",
      "  2.85993945e-02 -3.42014506e-02 -3.33602875e-02  4.77659665e-02\n",
      "  4.98436913e-02 -8.69998988e-03 -1.30937924e-03 -4.49462887e-03\n",
      " -3.16893347e-02 -6.01919778e-02  3.33319940e-02  1.78793985e-02\n",
      " -7.32879853e-03 -5.16298525e-02  1.10307276e-01  3.32915075e-02\n",
      " -4.81374823e-02 -1.63344681e-01 -5.17456867e-02  1.06656045e-01\n",
      " -2.39769574e-02 -2.10048482e-02  3.76254544e-02 -3.39665338e-02\n",
      "  2.30105277e-02  5.33665344e-02  3.48914191e-02  6.63146004e-02\n",
      " -2.51486916e-02 -1.14916071e-01  1.52700655e-02  3.17235216e-02\n",
      " -3.93697284e-02 -1.40936207e-02  7.55815879e-02 -3.06803696e-02\n",
      "  1.57063231e-02 -3.68296839e-02  1.97324939e-02  7.34652877e-02\n",
      " -5.00048846e-02  1.18286563e-02 -1.05213955e-01  4.84576896e-02\n",
      " -1.07747624e-02  1.23456856e-02 -1.28575295e-01 -4.19502269e-33\n",
      " -6.96015283e-02  7.01824650e-02  2.64097359e-02  2.74077598e-02\n",
      "  1.94724500e-02  3.38936644e-03  8.39835405e-02 -1.19285071e-02\n",
      " -5.91606274e-03 -5.33952750e-02 -8.85417461e-02  1.08720092e-02\n",
      " -6.05382510e-02  4.89608981e-02  1.44801125e-01 -6.19925037e-02\n",
      " -1.88328046e-02  3.28437835e-02  9.78698283e-02 -1.26040488e-01\n",
      " -3.63687053e-02 -2.30278689e-02  2.36537661e-02  1.69965960e-02\n",
      " -3.36067788e-02 -4.27405871e-02  4.97725159e-02 -2.80397460e-02\n",
      " -1.22457385e-01 -6.24103355e-04 -1.61030125e-02  1.92162413e-02\n",
      " -6.88026920e-02 -5.07463329e-02  2.31468901e-02 -1.48700252e-02\n",
      "  2.61479858e-02  1.74156576e-02  4.45807017e-02 -4.61340370e-03\n",
      "  1.24581566e-03  1.14493947e-02  1.17398612e-03 -5.77883329e-04\n",
      " -4.88798581e-02  3.35777388e-03  2.15884894e-02  2.17436384e-02\n",
      " -4.01748754e-02 -5.93693890e-02  4.31465134e-02 -5.79149835e-03\n",
      " -1.45559516e-02 -2.33010724e-02  4.00537290e-02 -3.28812338e-02\n",
      " -1.73514709e-02  8.80502686e-02  8.78024772e-02  7.14902282e-02\n",
      "  2.43383832e-02 -3.16088311e-02 -2.87188962e-02  1.18741386e-01\n",
      "  1.50226075e-02  1.26585541e-02 -1.20138740e-02  6.49808533e-03\n",
      "  8.11305270e-02 -1.69721674e-02  3.29289250e-02  3.24496860e-03\n",
      "  9.71775781e-03 -5.34137432e-03  7.76226458e-04 -1.12998970e-02\n",
      " -5.43325990e-02 -7.95999467e-02 -6.39310777e-02  2.33534724e-02\n",
      " -3.88262011e-02  5.04950918e-02 -1.61683820e-02  2.51033604e-02\n",
      "  4.88420427e-02  1.89434756e-02  3.95040512e-02  1.64243616e-02\n",
      "  1.79469120e-02  6.08097874e-02 -9.71803442e-02 -4.29501757e-03\n",
      "  4.69779409e-02 -1.85692534e-02 -1.49585435e-03  3.12300453e-33\n",
      " -4.05154824e-02  7.76401386e-02 -7.68349767e-02  6.87927334e-03\n",
      " -1.11439656e-02 -6.90649776e-03 -6.93835318e-02  1.08983284e-02\n",
      " -4.46601287e-02  7.09748864e-02 -7.50535866e-03  2.46027689e-02\n",
      "  8.53153467e-02 -4.97202836e-02  6.14158437e-03  6.84006419e-03\n",
      "  7.91840907e-03 -1.60177294e-02  1.33390576e-01 -6.96258666e-03\n",
      "  3.65018845e-03  6.92376643e-02 -5.83673790e-02  4.29087738e-03\n",
      "  2.71094758e-02  2.06597839e-02 -7.54406601e-02  1.21362440e-01\n",
      "  1.41612822e-02 -8.80485028e-03 -1.12583458e-01 -6.86755627e-02\n",
      "  1.06133251e-02  3.98198962e-02  5.16266748e-02  4.70365621e-02\n",
      "  6.69732466e-02 -5.28732426e-02  2.72423681e-02  6.20151870e-02\n",
      " -1.60805006e-02 -8.48446488e-02 -7.43888542e-02  1.55422203e-02\n",
      "  4.99159172e-02 -6.24454096e-02 -2.73393635e-02  3.96646634e-02\n",
      " -7.14585707e-02  3.42072956e-02  5.81977097e-03 -5.01980539e-03\n",
      " -2.11007167e-02 -8.79716873e-02 -6.59690574e-02  7.75432959e-02\n",
      "  3.62615846e-03  1.25473449e-02  8.31232890e-02  1.79972108e-02\n",
      " -3.43073234e-02 -1.09184593e-01 -4.28530313e-02 -2.84115132e-02\n",
      " -1.22462744e-02 -6.47088811e-02 -2.83475965e-02  4.34263945e-02\n",
      "  1.54806888e-02  2.96210926e-02  2.83118654e-02  2.70311534e-02\n",
      "  2.17186715e-02  9.95548069e-02 -9.76458862e-02 -1.18693829e-01\n",
      "  1.49579509e-03 -2.48586424e-02  2.05869004e-02 -4.24163742e-03\n",
      " -1.63179129e-01 -2.35130801e-03  5.22613898e-02  3.22741047e-02\n",
      "  1.18845448e-01  5.58347031e-02  6.39452934e-02 -1.98127106e-02\n",
      "  1.82593726e-02  4.46776226e-02  9.95420665e-03  5.73292188e-02\n",
      " -5.20283319e-02 -2.63252724e-02 -7.05788583e-02 -1.48690571e-08\n",
      " -1.41452570e-02  1.46302721e-02  3.41180600e-02  6.02812432e-02\n",
      "  1.00720353e-01 -5.89554608e-02  3.43099348e-02  2.05858536e-02\n",
      "  1.41135696e-02 -5.27992956e-02  3.31918858e-02 -4.51364880e-03\n",
      "  1.30648771e-03  4.52287234e-02 -1.19145568e-02  1.58703215e-02\n",
      " -1.47294020e-02 -6.52508289e-02 -3.39378528e-02 -1.03245201e-02\n",
      "  6.61992878e-02  5.19892201e-02  2.78194230e-02  2.00878680e-02\n",
      "  4.36495841e-02 -1.13884553e-01 -3.37100849e-02 -2.31446121e-02\n",
      " -1.57541838e-02  8.53704214e-02  7.60648400e-03  3.14748213e-02\n",
      "  3.90647538e-02  1.20520554e-02  5.84679060e-02  4.71986197e-02\n",
      "  1.03060529e-03  3.78680229e-02 -4.15116698e-02 -9.06218961e-02\n",
      " -6.39489517e-02  2.88593937e-02  2.10813043e-04 -4.49774191e-02\n",
      "  3.35248634e-02 -1.02061190e-01 -2.23541241e-02 -8.09978917e-02\n",
      "  3.70067395e-02 -1.78236999e-02  3.48415002e-02  2.56879479e-02\n",
      " -1.16618890e-02  4.34512198e-02  3.89698893e-02 -5.25000095e-02\n",
      "  2.35047583e-02 -6.69694692e-02 -5.07728569e-02  2.00967938e-02\n",
      " -7.23392218e-02  4.16884869e-02 -5.54499775e-02 -2.82230843e-02]\n"
     ]
    }
   ],
   "source": [
    "input_paper = input(\"Enter the title of any paper you like\")\n",
    "recommend_papers = recommendation(input_paper)\n",
    "\n",
    "\n",
    "print(\"We recommend to read this paper............\")\n",
    "for paper in recommend_papers:\n",
    "    print(paper)"
   ]
  }
 ],
 "metadata": {
  "kernelspec": {
   "display_name": "Python 3",
   "language": "python",
   "name": "python3"
  },
  "language_info": {
   "codemirror_mode": {
    "name": "ipython",
    "version": 3
   },
   "file_extension": ".py",
   "mimetype": "text/x-python",
   "name": "python",
   "nbconvert_exporter": "python",
   "pygments_lexer": "ipython3",
   "version": "3.12.3"
  }
 },
 "nbformat": 4,
 "nbformat_minor": 2
}
